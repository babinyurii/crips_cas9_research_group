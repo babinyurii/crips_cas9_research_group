{
 "cells": [
  {
   "cell_type": "markdown",
   "metadata": {},
   "source": [
    "## draft for run_create_plots()"
   ]
  },
  {
   "cell_type": "markdown",
   "metadata": {},
   "source": [
    "### tacks :\n",
    "- mofify the matrix - use integers for columns and rows indices. Maybe plotting will be easier this way"
   ]
  },
  {
   "cell_type": "code",
   "execution_count": 3,
   "metadata": {},
   "outputs": [],
   "source": [
    "import pandas as pd\n",
    "from collections import OrderedDict\n",
    "import numpy as np\n",
    "import matplotlib.pyplot as plt\n",
    "import matplotlib as mpl\n",
    "import numpy as np\n",
    "import seaborn as sns\n",
    "sns.set()\n",
    "\n",
    "import os\n",
    "import datetime\n",
    "from time import time"
   ]
  },
  {
   "cell_type": "code",
   "execution_count": null,
   "metadata": {},
   "outputs": [],
   "source": [
    "# raw counter \n",
    "def create_bars(df, cov):\n",
    "    \"\"\"raw reads count\"\"\"\n",
    "    raw_del_count = df.sum(axis=0)\n",
    "    fig_raw_count = plt.figure(figsize=(20, 7))\n",
    "\n",
    "    plt.bar(raw_del_count.index, raw_del_count)\n",
    "    plt.xticks(list(range(len(raw_del_count))), list(range(1, len(raw_del_count)+1)))\n",
    "    \n",
    "    plt.title(\"all deletion count irrespective deletion length\", fontsize=25)\n",
    "    plt.xlabel(\"nuc pos\", fontsize=25)\n",
    "    plt.ylabel(\"count\", fontsize=25)\n",
    "    plt.show()\n",
    "    "
   ]
  },
  {
   "cell_type": "code",
   "execution_count": null,
   "metadata": {},
   "outputs": [],
   "source": []
  },
  {
   "cell_type": "code",
   "execution_count": null,
   "metadata": {},
   "outputs": [],
   "source": []
  },
  {
   "cell_type": "code",
   "execution_count": null,
   "metadata": {},
   "outputs": [],
   "source": []
  },
  {
   "cell_type": "code",
   "execution_count": 14,
   "metadata": {},
   "outputs": [],
   "source": [
    "FILE_COUNTER = 0\n",
    "\n",
    "\n",
    "def get_coverage(file_name):\n",
    "    \"\"\"takes out coverage value from\n",
    "    excel file.\n",
    "    \"\"\"\n",
    "    df_cov = pd.read_excel(file_name, 2)\n",
    "    cov = int(df_cov[\"coverage\"])\n",
    "    return cov\n",
    "\n",
    "\n",
    "def _get_current_time():\n",
    "    \"\"\"returns time stamp\n",
    "    \"\"\"\n",
    "    time_stamp = datetime.datetime.fromtimestamp(time()).strftime('%Y-%m-%d %H:%M:%S')\n",
    "    return time_stamp\n",
    "\n",
    "\n",
    "def _show_report(total_time):\n",
    "    \"\"\"prints out very brief report \n",
    "    \"\"\"\n",
    "    global FILE_COUNTER\n",
    "    hours = total_time // 3600\n",
    "    minutes = (total_time % 3600) // 60\n",
    "    seconds = total_time % 60\n",
    "    \n",
    "    total_files = FILE_COUNTER\n",
    "\n",
    "    print(\"\"\"\n",
    "    \n",
    "    file processed: {0}\n",
    "    time taken: {1} hours {2} minutes {3} seconds\n",
    "    \n",
    "    the results are in the folder 'output_plots'\n",
    "    \n",
    "    ---------------\n",
    "    ... job finished at {4}\n",
    "    ---------------\n",
    "    \n",
    "    \"\"\".format(total_files, hours, minutes, int(seconds), _get_current_time()))\n",
    "    \n",
    "\n",
    "def create_matrix(file_name):\n",
    "    \"\"\"\n",
    "    creates matrix (length of indel, position) = number of such indels\n",
    "    \"\"\"\n",
    "    \n",
    "    cov = get_coverage(\"./output_indels/\" + file_name)\n",
    "    \n",
    "    indel_type = [\"deletions\", \"insertions\"]\n",
    "    \n",
    "    # creating matrix of rows:length of indel, columns:position in the sequence \n",
    "    for indel in indel_type:\n",
    "        df_indels = pd.read_excel(\"./output_indels/\" + file_name, sheet_name=indel)\n",
    "        container = []\n",
    "    \n",
    "        for col in df_indels.columns: \n",
    "            indels_total = df_indels.loc[ : , col].tolist()\n",
    "            lengths = list(set(indels_total))\n",
    "            lengths = (x for x in lengths if x==x) # deleting 'nan'\n",
    "            d = OrderedDict()\n",
    "        \n",
    "            for length in lengths:\n",
    "                d[length] = indels_total.count(length)\n",
    "            container.append(d)\n",
    "                      \n",
    "        indel_matrix = pd.DataFrame(container)\n",
    "    \n",
    "        # adding missing values to df columns with empty values\n",
    "        # as we don't have all lengths of indels\n",
    "        # it's for accurate plots\n",
    "        \n",
    "        \n",
    "        try:\n",
    "            max_col_ind = int(max(indel_matrix.columns))\n",
    "            for i in range(1, max_col_ind):\n",
    "                if i not in indel_matrix.columns:\n",
    "                    indel_matrix[i] = np.nan # adding missing value ('indel length') to column with empty values\n",
    "       \n",
    "            indel_matrix = indel_matrix.T\n",
    "            indel_matrix.sort_index(axis=0, ascending=False, inplace=True)\n",
    "            indel_matrix.columns = df_indels.columns\n",
    "    \n",
    "            create_bars_percent(file_name, indel_matrix, cov, indel)\n",
    "            create_heatmap(file_name, indel_matrix, indel)\n",
    "        \n",
    "        # trying to catch empty excel tabs\n",
    "        except ValueError as e:\n",
    "            print(e, \"\"\"perhaps the excel tab is empty. \n",
    "            the {0} for file {1} won't be written\n",
    "            \"\"\".format(indel, file_name))\n",
    "        \n",
    "        #return indel_matrix\n",
    "        \n",
    "        \n",
    "def create_bars_percent(file_name, indel_matrix, cov, indel):\n",
    "    \"\"\"percent reads count \n",
    "    based on coverage\n",
    "    \"\"\"\n",
    "    raw_del_count = indel_matrix.sum(axis=0)\n",
    "    fig_del_percent = plt.figure(figsize=(20, 7))\n",
    "    perc_del_count = raw_del_count / cov * 100\n",
    "\n",
    "    plt.bar(perc_del_count.index, perc_del_count)\n",
    "    plt.xticks(list(range(len(raw_del_count))), list(range(1, len(raw_del_count)+1)))\n",
    "    \n",
    "    plt.title(\"percent of\" + indel, fontsize=25)\n",
    "    plt.xlabel(\"nucleotide position\", fontsize=25)\n",
    "    plt.ylabel(\"percent\", fontsize=25)\n",
    "    \n",
    "    if not os.path.exists(\"./output_plots\"):\n",
    "        os.mkdir(\"output_plots\")\n",
    "    #plt.show() # comment to save figure, otherwise it'll save blank file\n",
    "    fig_del_percent.savefig(\"./output_plots/\" + file_name.rsplit(\".\", 1)[0] + \"_bars_\" + indel + \".png\")\n",
    "    plt.close() # comment the line to show the figure in the jupyter or wherever\n",
    "    \n",
    "\n",
    "    \n",
    "def create_heatmap(file_name, indel_matrix, indel):\n",
    "\n",
    "    cmap = plt.cm.jet # defining colormap\n",
    "    cmaplist = [cmap(i) for i in range(cmap.N)] # list of colors from jet map\n",
    "    cmap_short = cmaplist[130:]\n",
    "    cmap_short[0] = (.5, .5, .5, 1.0) # first entry changed to be grey\n",
    "    \n",
    "    # here's the max value of indels in the current df\n",
    "    # it's used to denote the largest value in colormap and split colormap into segments\n",
    "    largest_indel_num = indel_matrix.max()\n",
    "    largest_indel_num = int(largest_indel_num.max()) # turning into int class numpy float, otherwise deprecation warning is raised\n",
    "\n",
    "    fig = plt.figure(figsize=(25, 8))\n",
    "    ax = plt.axes()\n",
    "\n",
    "    sns.heatmap(indel_matrix, cmap=cmap_short, annot=True)\n",
    "    plt.yticks(list(range(1, len(indel_matrix.index) + 1)), \n",
    "               list(reversed(range(1, len(indel_matrix.index) + 1))), \n",
    "               fontsize=12, horizontalalignment=\"left\")\n",
    "\n",
    "    plt.xlabel(\"nucleotide position\", fontsize=20)\n",
    "    plt.ylabel(\"length of indel\", fontsize=20)\n",
    "\n",
    "    plt.title(\"number and length of \" + indel, fontsize=25)\n",
    "    #plt.xticks(list(range(1, len(matrix.columns) + 1)), list(range(1, len(matrix.columns) + 1)), fontsize=15)\n",
    "    #plt.show() # comment to save figure, otherwise it'll save blank file\n",
    "    fig.savefig(\"./output_plots/\" + file_name.rsplit(\".\", 1)[0] + \"_heatmap_\" + indel + \".png\")\n",
    "    plt.close() # comment the line to show the figure in the jupyter or wherever\n",
    "\n",
    "    \n",
    "def run_create_plots():\n",
    "    \"\"\"main functions\n",
    "    \"\"\"\n",
    "    start_time = time()\n",
    "    \n",
    "    print(\"\"\"\n",
    "    ---------------\n",
    "    job started at {0} ...\n",
    "    ---------------\n",
    "    \"\"\".format(_get_current_time()))\n",
    "    \n",
    "    if os.path.exists(\"./output_indels\"):\n",
    "        input_sheets = os.listdir(\"./output_indels\")\n",
    "\n",
    "        for f in input_sheets:\n",
    "            if os.path.isdir(\"./output_indels/\" + f):\n",
    "                print(\"\"\"\\nwarning: please, don't put folders into the 'output_indels' folder\n",
    "                I believe this is a folder: '{0}'\"\"\".format(f) + \"\\n\")\n",
    "            elif f.rsplit(\".\", 1)[-1] == \"xlsx\":\n",
    "                print(\"processing file '{}'\".format(f))\n",
    "                print(f)\n",
    "                create_matrix(f)\n",
    "            else:\n",
    "                print(\n",
    "                    \"\\nwarning: item '{0}' isn't a fasta file. it won't be processed\\n\".format(f))\n",
    "        else:\n",
    "            finish_time = time()\n",
    "            total_time = finish_time - start_time\n",
    "            _show_report(total_time)\n",
    "    else:\n",
    "        print(\n",
    "            \"\"\"\n",
    "        Houston, we have a problem...\n",
    "        --------\n",
    "        folder 'output_indels' doesn't exist in the current directory \n",
    "        or may be you've renamed it but misspelled its name.\n",
    "        Please, check it out.\n",
    "        --------\n",
    "        \"\"\"\n",
    "        )    \n",
    "    \n",
    "if __name__ == \"__main__\":\n",
    "    run_create_plots()\n",
    "    \n",
    "\n",
    "    "
   ]
  },
  {
   "cell_type": "code",
   "execution_count": 15,
   "metadata": {
    "scrolled": false
   },
   "outputs": [
    {
     "name": "stdout",
     "output_type": "stream",
     "text": [
      "\n",
      "    ---------------\n",
      "    job started at 2018-10-17 11:50:30 ...\n",
      "    ---------------\n",
      "    \n",
      "processing file 'DK-14-10_S218_R1_1_400,510R.xlsx'\n",
      "DK-14-10_S218_R1_1_400,510R.xlsx\n",
      "processing file 'DK-14-3_S220_R1_1_1,096,545R.xlsx'\n",
      "DK-14-3_S220_R1_1_1,096,545R.xlsx\n",
      "processing file 'DK-14-5_S221_R1_001 assembled to OT14-5.xlsx'\n",
      "DK-14-5_S221_R1_001 assembled to OT14-5.xlsx\n",
      "processing file 'DK-cas14-10_S228_R1_1_415,741R.xlsx'\n",
      "DK-cas14-10_S228_R1_1_415,741R.xlsx\n",
      "processing file 'DK-cas14-10_S228_R1_2.xlsx'\n",
      "DK-cas14-10_S228_R1_2.xlsx\n",
      "processing file 'DK-cas14-10_S228_R1_3.xlsx'\n",
      "DK-cas14-10_S228_R1_3.xlsx\n",
      "processing file 'DK-cas14-10_S228_R2_001 assembled to ST 10 off.xlsx'\n",
      "DK-cas14-10_S228_R2_001 assembled to ST 10 off.xlsx\n",
      "processing file 'DK-cas14-3_S230_R1_001 assembled to OT14-3.xlsx'\n",
      "DK-cas14-3_S230_R1_001 assembled to OT14-3.xlsx\n",
      "processing file 'DK-cas14-5_S231_R1_1_717,246.xlsx'\n",
      "DK-cas14-5_S231_R1_1_717,246.xlsx\n",
      "max() arg is an empty sequence perhaps the excel tab is empty. \n",
      "            the insertions for file DK-cas14-5_S231_R1_1_717,246.xlsx won't be written\n",
      "            \n",
      "processing file 'DK-cas14-5_S231_R1_2 (1).xlsx'\n",
      "DK-cas14-5_S231_R1_2 (1).xlsx\n",
      "processing file 'DK-cas14-5_S231_R1_2.xlsx'\n",
      "DK-cas14-5_S231_R1_2.xlsx\n",
      "processing file 'DK-cas14-5_S231_R1_3 (1).xlsx'\n",
      "DK-cas14-5_S231_R1_3 (1).xlsx\n",
      "max() arg is an empty sequence perhaps the excel tab is empty. \n",
      "            the deletions for file DK-cas14-5_S231_R1_3 (1).xlsx won't be written\n",
      "            \n",
      "max() arg is an empty sequence perhaps the excel tab is empty. \n",
      "            the insertions for file DK-cas14-5_S231_R1_3 (1).xlsx won't be written\n",
      "            \n",
      "processing file 'DK-cas14-5_S231_R1_3.xlsx'\n",
      "DK-cas14-5_S231_R1_3.xlsx\n",
      "max() arg is an empty sequence perhaps the excel tab is empty. \n",
      "            the deletions for file DK-cas14-5_S231_R1_3.xlsx won't be written\n",
      "            \n",
      "max() arg is an empty sequence perhaps the excel tab is empty. \n",
      "            the insertions for file DK-cas14-5_S231_R1_3.xlsx won't be written\n",
      "            \n",
      "processing file 'DK-cas14-5_S231_R1_4 (1).xlsx'\n",
      "DK-cas14-5_S231_R1_4 (1).xlsx\n",
      "processing file 'DK-cas14-5_S231_R1_4.xlsx'\n",
      "DK-cas14-5_S231_R1_4.xlsx\n",
      "processing file 'DK-cas14-5_S231_R1_5 (1).xlsx'\n",
      "DK-cas14-5_S231_R1_5 (1).xlsx\n",
      "processing file 'DK-cas14-5_S231_R1_5.xlsx'\n",
      "DK-cas14-5_S231_R1_5.xlsx\n",
      "processing file 'DK-St4-4_S100_R1_001 assembled to St4-4Ref.xlsx'\n",
      "DK-St4-4_S100_R1_001 assembled to St4-4Ref.xlsx\n",
      "processing file '~$DK-cas14-5_S231_R1_1_717,246.xlsx'\n",
      "~$DK-cas14-5_S231_R1_1_717,246.xlsx\n"
     ]
    },
    {
     "ename": "PermissionError",
     "evalue": "[Errno 13] Permission denied: './output_indels/~$DK-cas14-5_S231_R1_1_717,246.xlsx'",
     "output_type": "error",
     "traceback": [
      "\u001b[1;31m---------------------------------------------------------------------------\u001b[0m",
      "\u001b[1;31mPermissionError\u001b[0m                           Traceback (most recent call last)",
      "\u001b[1;32m<ipython-input-15-5190f7f3ccc4>\u001b[0m in \u001b[0;36m<module>\u001b[1;34m()\u001b[0m\n\u001b[1;32m----> 1\u001b[1;33m \u001b[0mrun_create_plots\u001b[0m\u001b[1;33m(\u001b[0m\u001b[1;33m)\u001b[0m\u001b[1;33m\u001b[0m\u001b[0m\n\u001b[0m",
      "\u001b[1;32m<ipython-input-14-1cf6bdcd818e>\u001b[0m in \u001b[0;36mrun_create_plots\u001b[1;34m()\u001b[0m\n\u001b[0;32m    174\u001b[0m                 \u001b[0mprint\u001b[0m\u001b[1;33m(\u001b[0m\u001b[1;34m\"processing file '{}'\"\u001b[0m\u001b[1;33m.\u001b[0m\u001b[0mformat\u001b[0m\u001b[1;33m(\u001b[0m\u001b[0mf\u001b[0m\u001b[1;33m)\u001b[0m\u001b[1;33m)\u001b[0m\u001b[1;33m\u001b[0m\u001b[0m\n\u001b[0;32m    175\u001b[0m                 \u001b[0mprint\u001b[0m\u001b[1;33m(\u001b[0m\u001b[0mf\u001b[0m\u001b[1;33m)\u001b[0m\u001b[1;33m\u001b[0m\u001b[0m\n\u001b[1;32m--> 176\u001b[1;33m                 \u001b[0mcreate_matrix\u001b[0m\u001b[1;33m(\u001b[0m\u001b[0mf\u001b[0m\u001b[1;33m)\u001b[0m\u001b[1;33m\u001b[0m\u001b[0m\n\u001b[0m\u001b[0;32m    177\u001b[0m             \u001b[1;32melse\u001b[0m\u001b[1;33m:\u001b[0m\u001b[1;33m\u001b[0m\u001b[0m\n\u001b[0;32m    178\u001b[0m                 print(\n",
      "\u001b[1;32m<ipython-input-14-1cf6bdcd818e>\u001b[0m in \u001b[0;36mcreate_matrix\u001b[1;34m(file_name)\u001b[0m\n\u001b[0;32m     52\u001b[0m     \"\"\"\n\u001b[0;32m     53\u001b[0m \u001b[1;33m\u001b[0m\u001b[0m\n\u001b[1;32m---> 54\u001b[1;33m     \u001b[0mcov\u001b[0m \u001b[1;33m=\u001b[0m \u001b[0mget_coverage\u001b[0m\u001b[1;33m(\u001b[0m\u001b[1;34m\"./output_indels/\"\u001b[0m \u001b[1;33m+\u001b[0m \u001b[0mfile_name\u001b[0m\u001b[1;33m)\u001b[0m\u001b[1;33m\u001b[0m\u001b[0m\n\u001b[0m\u001b[0;32m     55\u001b[0m \u001b[1;33m\u001b[0m\u001b[0m\n\u001b[0;32m     56\u001b[0m     \u001b[0mindel_type\u001b[0m \u001b[1;33m=\u001b[0m \u001b[1;33m[\u001b[0m\u001b[1;34m\"deletions\"\u001b[0m\u001b[1;33m,\u001b[0m \u001b[1;34m\"insertions\"\u001b[0m\u001b[1;33m]\u001b[0m\u001b[1;33m\u001b[0m\u001b[0m\n",
      "\u001b[1;32m<ipython-input-14-1cf6bdcd818e>\u001b[0m in \u001b[0;36mget_coverage\u001b[1;34m(file_name)\u001b[0m\n\u001b[0;32m      6\u001b[0m     \u001b[0mexcel\u001b[0m \u001b[0mfile\u001b[0m\u001b[1;33m.\u001b[0m\u001b[1;33m\u001b[0m\u001b[0m\n\u001b[0;32m      7\u001b[0m     \"\"\"\n\u001b[1;32m----> 8\u001b[1;33m     \u001b[0mdf_cov\u001b[0m \u001b[1;33m=\u001b[0m \u001b[0mpd\u001b[0m\u001b[1;33m.\u001b[0m\u001b[0mread_excel\u001b[0m\u001b[1;33m(\u001b[0m\u001b[0mfile_name\u001b[0m\u001b[1;33m,\u001b[0m \u001b[1;36m2\u001b[0m\u001b[1;33m)\u001b[0m\u001b[1;33m\u001b[0m\u001b[0m\n\u001b[0m\u001b[0;32m      9\u001b[0m     \u001b[0mcov\u001b[0m \u001b[1;33m=\u001b[0m \u001b[0mint\u001b[0m\u001b[1;33m(\u001b[0m\u001b[0mdf_cov\u001b[0m\u001b[1;33m[\u001b[0m\u001b[1;34m\"coverage\"\u001b[0m\u001b[1;33m]\u001b[0m\u001b[1;33m)\u001b[0m\u001b[1;33m\u001b[0m\u001b[0m\n\u001b[0;32m     10\u001b[0m     \u001b[1;32mreturn\u001b[0m \u001b[0mcov\u001b[0m\u001b[1;33m\u001b[0m\u001b[0m\n",
      "\u001b[1;32mC:\\Anaconda\\lib\\site-packages\\pandas\\util\\_decorators.py\u001b[0m in \u001b[0;36mwrapper\u001b[1;34m(*args, **kwargs)\u001b[0m\n\u001b[0;32m    175\u001b[0m                 \u001b[1;32melse\u001b[0m\u001b[1;33m:\u001b[0m\u001b[1;33m\u001b[0m\u001b[0m\n\u001b[0;32m    176\u001b[0m                     \u001b[0mkwargs\u001b[0m\u001b[1;33m[\u001b[0m\u001b[0mnew_arg_name\u001b[0m\u001b[1;33m]\u001b[0m \u001b[1;33m=\u001b[0m \u001b[0mnew_arg_value\u001b[0m\u001b[1;33m\u001b[0m\u001b[0m\n\u001b[1;32m--> 177\u001b[1;33m             \u001b[1;32mreturn\u001b[0m \u001b[0mfunc\u001b[0m\u001b[1;33m(\u001b[0m\u001b[1;33m*\u001b[0m\u001b[0margs\u001b[0m\u001b[1;33m,\u001b[0m \u001b[1;33m**\u001b[0m\u001b[0mkwargs\u001b[0m\u001b[1;33m)\u001b[0m\u001b[1;33m\u001b[0m\u001b[0m\n\u001b[0m\u001b[0;32m    178\u001b[0m         \u001b[1;32mreturn\u001b[0m \u001b[0mwrapper\u001b[0m\u001b[1;33m\u001b[0m\u001b[0m\n\u001b[0;32m    179\u001b[0m     \u001b[1;32mreturn\u001b[0m \u001b[0m_deprecate_kwarg\u001b[0m\u001b[1;33m\u001b[0m\u001b[0m\n",
      "\u001b[1;32mC:\\Anaconda\\lib\\site-packages\\pandas\\util\\_decorators.py\u001b[0m in \u001b[0;36mwrapper\u001b[1;34m(*args, **kwargs)\u001b[0m\n\u001b[0;32m    175\u001b[0m                 \u001b[1;32melse\u001b[0m\u001b[1;33m:\u001b[0m\u001b[1;33m\u001b[0m\u001b[0m\n\u001b[0;32m    176\u001b[0m                     \u001b[0mkwargs\u001b[0m\u001b[1;33m[\u001b[0m\u001b[0mnew_arg_name\u001b[0m\u001b[1;33m]\u001b[0m \u001b[1;33m=\u001b[0m \u001b[0mnew_arg_value\u001b[0m\u001b[1;33m\u001b[0m\u001b[0m\n\u001b[1;32m--> 177\u001b[1;33m             \u001b[1;32mreturn\u001b[0m \u001b[0mfunc\u001b[0m\u001b[1;33m(\u001b[0m\u001b[1;33m*\u001b[0m\u001b[0margs\u001b[0m\u001b[1;33m,\u001b[0m \u001b[1;33m**\u001b[0m\u001b[0mkwargs\u001b[0m\u001b[1;33m)\u001b[0m\u001b[1;33m\u001b[0m\u001b[0m\n\u001b[0m\u001b[0;32m    178\u001b[0m         \u001b[1;32mreturn\u001b[0m \u001b[0mwrapper\u001b[0m\u001b[1;33m\u001b[0m\u001b[0m\n\u001b[0;32m    179\u001b[0m     \u001b[1;32mreturn\u001b[0m \u001b[0m_deprecate_kwarg\u001b[0m\u001b[1;33m\u001b[0m\u001b[0m\n",
      "\u001b[1;32mC:\\Anaconda\\lib\\site-packages\\pandas\\io\\excel.py\u001b[0m in \u001b[0;36mread_excel\u001b[1;34m(io, sheet_name, header, names, index_col, usecols, squeeze, dtype, engine, converters, true_values, false_values, skiprows, nrows, na_values, parse_dates, date_parser, thousands, comment, skipfooter, convert_float, **kwds)\u001b[0m\n\u001b[0;32m    305\u001b[0m \u001b[1;33m\u001b[0m\u001b[0m\n\u001b[0;32m    306\u001b[0m     \u001b[1;32mif\u001b[0m \u001b[1;32mnot\u001b[0m \u001b[0misinstance\u001b[0m\u001b[1;33m(\u001b[0m\u001b[0mio\u001b[0m\u001b[1;33m,\u001b[0m \u001b[0mExcelFile\u001b[0m\u001b[1;33m)\u001b[0m\u001b[1;33m:\u001b[0m\u001b[1;33m\u001b[0m\u001b[0m\n\u001b[1;32m--> 307\u001b[1;33m         \u001b[0mio\u001b[0m \u001b[1;33m=\u001b[0m \u001b[0mExcelFile\u001b[0m\u001b[1;33m(\u001b[0m\u001b[0mio\u001b[0m\u001b[1;33m,\u001b[0m \u001b[0mengine\u001b[0m\u001b[1;33m=\u001b[0m\u001b[0mengine\u001b[0m\u001b[1;33m)\u001b[0m\u001b[1;33m\u001b[0m\u001b[0m\n\u001b[0m\u001b[0;32m    308\u001b[0m \u001b[1;33m\u001b[0m\u001b[0m\n\u001b[0;32m    309\u001b[0m     return io.parse(\n",
      "\u001b[1;32mC:\\Anaconda\\lib\\site-packages\\pandas\\io\\excel.py\u001b[0m in \u001b[0;36m__init__\u001b[1;34m(self, io, **kwds)\u001b[0m\n\u001b[0;32m    392\u001b[0m             \u001b[0mself\u001b[0m\u001b[1;33m.\u001b[0m\u001b[0mbook\u001b[0m \u001b[1;33m=\u001b[0m \u001b[0mxlrd\u001b[0m\u001b[1;33m.\u001b[0m\u001b[0mopen_workbook\u001b[0m\u001b[1;33m(\u001b[0m\u001b[0mfile_contents\u001b[0m\u001b[1;33m=\u001b[0m\u001b[0mdata\u001b[0m\u001b[1;33m)\u001b[0m\u001b[1;33m\u001b[0m\u001b[0m\n\u001b[0;32m    393\u001b[0m         \u001b[1;32melif\u001b[0m \u001b[0misinstance\u001b[0m\u001b[1;33m(\u001b[0m\u001b[0mself\u001b[0m\u001b[1;33m.\u001b[0m\u001b[0m_io\u001b[0m\u001b[1;33m,\u001b[0m \u001b[0mcompat\u001b[0m\u001b[1;33m.\u001b[0m\u001b[0mstring_types\u001b[0m\u001b[1;33m)\u001b[0m\u001b[1;33m:\u001b[0m\u001b[1;33m\u001b[0m\u001b[0m\n\u001b[1;32m--> 394\u001b[1;33m             \u001b[0mself\u001b[0m\u001b[1;33m.\u001b[0m\u001b[0mbook\u001b[0m \u001b[1;33m=\u001b[0m \u001b[0mxlrd\u001b[0m\u001b[1;33m.\u001b[0m\u001b[0mopen_workbook\u001b[0m\u001b[1;33m(\u001b[0m\u001b[0mself\u001b[0m\u001b[1;33m.\u001b[0m\u001b[0m_io\u001b[0m\u001b[1;33m)\u001b[0m\u001b[1;33m\u001b[0m\u001b[0m\n\u001b[0m\u001b[0;32m    395\u001b[0m         \u001b[1;32melse\u001b[0m\u001b[1;33m:\u001b[0m\u001b[1;33m\u001b[0m\u001b[0m\n\u001b[0;32m    396\u001b[0m             raise ValueError('Must explicitly set engine if not passing in'\n",
      "\u001b[1;32mC:\\Anaconda\\lib\\site-packages\\xlrd\\__init__.py\u001b[0m in \u001b[0;36mopen_workbook\u001b[1;34m(filename, logfile, verbosity, use_mmap, file_contents, encoding_override, formatting_info, on_demand, ragged_rows)\u001b[0m\n\u001b[0;32m    114\u001b[0m         \u001b[0mpeek\u001b[0m \u001b[1;33m=\u001b[0m \u001b[0mfile_contents\u001b[0m\u001b[1;33m[\u001b[0m\u001b[1;33m:\u001b[0m\u001b[0mpeeksz\u001b[0m\u001b[1;33m]\u001b[0m\u001b[1;33m\u001b[0m\u001b[0m\n\u001b[0;32m    115\u001b[0m     \u001b[1;32melse\u001b[0m\u001b[1;33m:\u001b[0m\u001b[1;33m\u001b[0m\u001b[0m\n\u001b[1;32m--> 116\u001b[1;33m         \u001b[1;32mwith\u001b[0m \u001b[0mopen\u001b[0m\u001b[1;33m(\u001b[0m\u001b[0mfilename\u001b[0m\u001b[1;33m,\u001b[0m \u001b[1;34m\"rb\"\u001b[0m\u001b[1;33m)\u001b[0m \u001b[1;32mas\u001b[0m \u001b[0mf\u001b[0m\u001b[1;33m:\u001b[0m\u001b[1;33m\u001b[0m\u001b[0m\n\u001b[0m\u001b[0;32m    117\u001b[0m             \u001b[0mpeek\u001b[0m \u001b[1;33m=\u001b[0m \u001b[0mf\u001b[0m\u001b[1;33m.\u001b[0m\u001b[0mread\u001b[0m\u001b[1;33m(\u001b[0m\u001b[0mpeeksz\u001b[0m\u001b[1;33m)\u001b[0m\u001b[1;33m\u001b[0m\u001b[0m\n\u001b[0;32m    118\u001b[0m     \u001b[1;32mif\u001b[0m \u001b[0mpeek\u001b[0m \u001b[1;33m==\u001b[0m \u001b[1;34mb\"PK\\x03\\x04\"\u001b[0m\u001b[1;33m:\u001b[0m \u001b[1;31m# a ZIP file\u001b[0m\u001b[1;33m\u001b[0m\u001b[0m\n",
      "\u001b[1;31mPermissionError\u001b[0m: [Errno 13] Permission denied: './output_indels/~$DK-cas14-5_S231_R1_1_717,246.xlsx'"
     ]
    }
   ],
   "source": [
    "run_create_plots()"
   ]
  },
  {
   "cell_type": "code",
   "execution_count": 82,
   "metadata": {},
   "outputs": [],
   "source": [
    "create_bars_percent(matrix, coverage, \"DK-14-3_S220_R1_1_1,096,545R.xlsx\" )"
   ]
  },
  {
   "cell_type": "code",
   "execution_count": 16,
   "metadata": {
    "scrolled": false
   },
   "outputs": [],
   "source": [
    "# taking 0 tab to get deletion matrix\n",
    "matrix = create_matrix(\"DK-14-3_S220_R1_1_1,096,545R.xlsx\", 0)"
   ]
  },
  {
   "cell_type": "code",
   "execution_count": 56,
   "metadata": {},
   "outputs": [],
   "source": [
    "coverage = get_coverage(\"DK-14-3_S220_R1_1_1,096,545R.xlsx\")"
   ]
  },
  {
   "cell_type": "code",
   "execution_count": 57,
   "metadata": {},
   "outputs": [
    {
     "data": {
      "image/png": "[encoded data removed]",
      "text/plain": [
       "<Figure size 1440x504 with 1 Axes>"
      ]
     },
     "metadata": {},
     "output_type": "display_data"
    }
   ],
   "source": [
    "create_bars(matrix, coverage)"
   ]
  },
  {
   "cell_type": "code",
   "execution_count": 21,
   "metadata": {},
   "outputs": [
    {
     "data": {
      "image/png": "[encoded data removed]",
      "text/plain": [
       "<Figure size 1440x576 with 2 Axes>"
      ]
     },
     "metadata": {},
     "output_type": "display_data"
    }
   ],
   "source": [
    "# sketch for heatmap with custom color code :\n",
    "\n",
    "\n",
    "\n",
    "cmap = plt.cm.jet # defining colormap\n",
    "\n",
    "cmaplist = [cmap(i) for i in range(cmap.N)] # list of colors from jet map\n",
    "\n",
    "cmaplist[0] = (.5, .5, .5, 1.0) # first entry changed to be grey\n",
    "\n",
    "# creating new map\n",
    "cmap = cmap.from_list(\"number of indels\", cmaplist, cmap.N)\n",
    "\n",
    "\n",
    "# here's the max value of indels in the current df\n",
    "# it's used to denote the largest value in colormap and split colormap into segments\n",
    "largest_indel_num = matrix.max()\n",
    "largest_indel_num = int(largest_indel_num.max()) # turning into int class numpy float, otherwise deprecation warning is raised\n",
    "\n",
    "# creating bounds based on the largest indel number\n",
    "bounds = np.linspace(0, largest_indel_num, largest_indel_num) \n",
    "# generating colormap index (boundaries, num of colors to be used)\n",
    "norm = mpl.colors.BoundaryNorm(bounds, cmap.N) \n",
    "\n",
    "\n",
    "fig = plt.figure(figsize=(20, 8))\n",
    "sns.heatmap(matrix, cmap=cmap,norm=norm, annot=True)\n",
    "\n",
    "plt.show()\n",
    "\n"
   ]
  },
  {
   "cell_type": "code",
   "execution_count": 75,
   "metadata": {},
   "outputs": [
    {
     "data": {
      "image/png": "[encoded data removed]",
      "text/plain": [
       "<Figure size 1800x576 with 2 Axes>"
      ]
     },
     "metadata": {},
     "output_type": "display_data"
    }
   ],
   "source": [
    "# sketch for heatmap with custom color code :\n",
    "\n",
    "\n",
    "def create_heatmap(file_name, indel_matrix, indel):\n",
    "\n",
    "    cmap = plt.cm.jet # defining colormap\n",
    "    cmaplist = [cmap(i) for i in range(cmap.N)] # list of colors from jet map\n",
    "    cmap_short = cmaplist[130:]\n",
    "    cmap_short[0] = (.5, .5, .5, 1.0) # first entry changed to be grey\n",
    "    \n",
    "    # here's the max value of indels in the current df\n",
    "    # it's used to denote the largest value in colormap and split colormap into segments\n",
    "    largest_indel_num = indel_matrix.max()\n",
    "    largest_indel_num = int(largest_indel_num.max()) # turning into int class numpy float, otherwise deprecation warning is raised\n",
    "\n",
    "    fig = plt.figure(figsize=(25, 8))\n",
    "    ax = plt.axes()\n",
    "\n",
    "    sns.heatmap(indel_matrix, cmap=cmap_short, annot=True)\n",
    "    plt.yticks(list(range(1, len(indel_matrix.index) + 1)), \n",
    "               list(reversed(range(1, len(indel_matrix.index) + 1))), \n",
    "               fontsize=12, horizontalalignment=\"left\")\n",
    "\n",
    "\n",
    "\n",
    "    plt.xlabel(\"nucleotide position\", fontsize=20)\n",
    "    plt.ylabel(\"length of indel\", fontsize=20)\n",
    "\n",
    "    plt.title(\"number and length of \" + indel, fontsize=25)\n",
    "    #plt.xticks(list(range(1, len(matrix.columns) + 1)), list(range(1, len(matrix.columns) + 1)), fontsize=15)\n",
    "    #plt.show() # comment to save figure, otherwise it'll save blank file\n",
    "    fig.savefig(\"./output_plots/\" + file_name.rsplit(\".\", 1)[0] + \"_heatmap_\" + indel + \".png\")\n",
    "    plt.close() # comment the line to show the figure in the jupyter or wherever\n",
    "\n",
    "\n"
   ]
  },
  {
   "cell_type": "markdown",
   "metadata": {},
   "source": []
  },
  {
   "cell_type": "markdown",
   "metadata": {},
   "source": [
    "### here the method in the loop at the bottom of the cell works, it actually shifts the label but only slightly \n",
    "### >>>>>>>>>> to cheetsheet"
   ]
  },
  {
   "cell_type": "code",
   "execution_count": 91,
   "metadata": {},
   "outputs": [
    {
     "data": {
      "image/png": "[encoded data removed]",
      "text/plain": [
       "<Figure size 1440x576 with 2 Axes>"
      ]
     },
     "metadata": {},
     "output_type": "display_data"
    }
   ],
   "source": [
    "\n",
    "cmap = plt.cm.jet # defining colormap\n",
    "\n",
    "cmaplist = [cmap(i) for i in range(cmap.N)] # list of colors from jet map\n",
    "\n",
    "cmap_short = cmaplist[130:]\n",
    "\n",
    "cmap_short[0] = (.5, .5, .5, 1.0) # first entry changed to be grey\n",
    "\n",
    "\n",
    "# here's the max value of indels in the current df\n",
    "# it's used to denote the largest value in colormap and split colormap into segments\n",
    "largest_indel_num = matrix.max()\n",
    "largest_indel_num = int(largest_indel_num.max()) # turning into int class numpy float, otherwise deprecation warning is raised\n",
    "\n",
    "\n",
    "fig, ax = plt.subplots(figsize=(20, 8))\n",
    "\n",
    "sns.heatmap(matrix, cmap=cmap_short, annot=True)\n",
    "\n",
    "\n",
    "plt.yticks(list(range(1, len(matrix.index) + 1)), list(reversed(range(1, len(matrix.index) + 1))), fontsize=12, \n",
    "           horizontalalignment=\"left\")\n",
    "plt.xlabel(\"nucleotide position\", fontsize=20)\n",
    "plt.ylabel(\"length of indel\", fontsize=20)\n",
    "\n",
    "plt.title(\"number and length of indels\", fontsize=25)\n",
    "\n",
    "plt.xticks(list(range(1, len(matrix.columns) + 1)), list(range(1, len(matrix.columns) + 1)), fontsize=15)\n",
    "\n",
    "################\n",
    "# trying to shift the label \n",
    "for tick in ax.xaxis.get_majorticklabels():\n",
    "    tick.set_horizontalalignment(\"right\")\n",
    "\n",
    "\n",
    "plt.show()"
   ]
  },
  {
   "cell_type": "code",
   "execution_count": null,
   "metadata": {},
   "outputs": [],
   "source": []
  },
  {
   "cell_type": "code",
   "execution_count": null,
   "metadata": {},
   "outputs": [],
   "source": []
  },
  {
   "cell_type": "markdown",
   "metadata": {},
   "source": [
    "example from :\n",
    "https://matplotlib.org/gallery/ticks_and_spines/centered_ticklabels.html\n"
   ]
  },
  {
   "cell_type": "code",
   "execution_count": null,
   "metadata": {},
   "outputs": [],
   "source": [
    "import numpy as np\n",
    "import matplotlib.cbook as cbook\n",
    "import matplotlib.dates as dates\n",
    "import matplotlib.ticker as ticker\n",
    "import matplotlib.pyplot as plt\n",
    "\n",
    "# load some financial data; apple's stock price\n",
    "with cbook.get_sample_data('aapl.npz') as fh:\n",
    "    r = np.load(fh)['price_data'].view(np.recarray)\n",
    "r = r[-250:]  # get the last 250 days\n",
    "# Matplotlib works better with datetime.datetime than np.datetime64, but the\n",
    "# latter is more portable.\n",
    "date = r.date.astype('O')\n",
    "\n",
    "fig, ax = plt.subplots()\n",
    "ax.plot(date, r.adj_close)\n",
    "\n",
    "ax.xaxis.set_major_locator(dates.MonthLocator())\n",
    "ax.xaxis.set_minor_locator(dates.MonthLocator(bymonthday=15))\n",
    "\n",
    "ax.xaxis.set_major_formatter(ticker.NullFormatter())\n",
    "ax.xaxis.set_minor_formatter(dates.DateFormatter('%b'))\n",
    "\n",
    "for tick in ax.xaxis.get_minor_ticks():\n",
    "    tick.tick1line.set_markersize(0)\n",
    "    tick.tick2line.set_markersize(0)\n",
    "    tick.label1.set_horizontalalignment('center')\n",
    "\n",
    "imid = len(r) // 2\n",
    "ax.set_xlabel(str(date[imid].year))\n",
    "plt.show()"
   ]
  },
  {
   "cell_type": "code",
   "execution_count": null,
   "metadata": {},
   "outputs": [],
   "source": []
  },
  {
   "cell_type": "code",
   "execution_count": null,
   "metadata": {},
   "outputs": [],
   "source": []
  },
  {
   "cell_type": "code",
   "execution_count": null,
   "metadata": {},
   "outputs": [],
   "source": []
  },
  {
   "cell_type": "code",
   "execution_count": null,
   "metadata": {},
   "outputs": [],
   "source": []
  },
  {
   "cell_type": "code",
   "execution_count": null,
   "metadata": {},
   "outputs": [],
   "source": []
  },
  {
   "cell_type": "code",
   "execution_count": null,
   "metadata": {},
   "outputs": [],
   "source": []
  },
  {
   "cell_type": "code",
   "execution_count": null,
   "metadata": {},
   "outputs": [],
   "source": []
  },
  {
   "cell_type": "code",
   "execution_count": null,
   "metadata": {},
   "outputs": [],
   "source": []
  },
  {
   "cell_type": "code",
   "execution_count": null,
   "metadata": {},
   "outputs": [],
   "source": []
  },
  {
   "cell_type": "code",
   "execution_count": null,
   "metadata": {},
   "outputs": [],
   "source": []
  }
 ],
 "metadata": {
  "kernelspec": {
   "display_name": "Python 3",
   "language": "python",
   "name": "python3"
  },
  "language_info": {
   "codemirror_mode": {
    "name": "ipython",
    "version": 3
   },
   "file_extension": ".py",
   "mimetype": "text/x-python",
   "name": "python",
   "nbconvert_exporter": "python",
   "pygments_lexer": "ipython3",
   "version": "3.6.5"
  }
 },
 "nbformat": 4,
 "nbformat_minor": 2
}
