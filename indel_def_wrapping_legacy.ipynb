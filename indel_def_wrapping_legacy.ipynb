{
 "cells": [
  {
   "cell_type": "markdown",
   "metadata": {},
   "source": [
    "**here sctipt as it is originally, isn't changed**"
   ]
  },
  {
   "cell_type": "code",
   "execution_count": 31,
   "metadata": {},
   "outputs": [],
   "source": [
    "from Bio import SeqIO\n",
    "from Bio.Seq import MutableSeq\n",
    "from Bio.Alphabet import generic_alphabet\n",
    "import copy\n",
    "import pandas as pd\n",
    "\n",
    "#################################\n",
    "# this script is the legacy from forger collegue\n",
    "# is intended to count\n",
    "\n",
    "\n",
    "def count_indels(filename):\n",
    "    \n",
    "    records = list(SeqIO.parse(filename + \".fasta\", \"fasta\", generic_alphabet))\n",
    "\n",
    "    rec3=[MutableSeq(str(q.seq)) for q in records]\n",
    "    \n",
    "    rec3ins=[[] for i in range(len(rec3[0]))]\n",
    "    rec3dels=[[] for i in range(len(rec3[0]))]\n",
    "    #rec3counts=[]\n",
    "\n",
    "    for j in range(len(rec3)):\n",
    "        if rec3[j] != rec3[0]:\n",
    "    #        print(j,len(rec3))\n",
    "            cnt2=0\n",
    "\n",
    "            for i in range(len(rec3[j])):\n",
    "                if i<cnt2:   \n",
    "                    continue\n",
    "\n",
    "                if rec3[j][i]!=rec3[0][i]:\n",
    "                    if rec3[j][i]=='-':\n",
    "                        cnt=0\n",
    "                        cnt2=0\n",
    "\n",
    "                        for k in range(i+1,len(rec3[0])):\n",
    "                            if rec3[j][k]=='-' and rec3[j][k]!=rec3[0][k]:\n",
    "                                cnt+=1\n",
    "                            if rec3[j][k]!='-':\n",
    "                                cnt2=k\n",
    "                                break\n",
    "                        rec3dels[i].append(cnt+1)\n",
    "\n",
    "    #                    i=cnt2\n",
    "\n",
    "                    if rec3[0][i]=='-' and rec3[j][i]!='N':\n",
    "                        cnt=0\n",
    "                        cnt2=0\n",
    "                        for k in range(i+1,len(rec3[0])):\n",
    "                            if rec3[0][k]=='-' and rec3[j][k]!=rec3[0][k]:\n",
    "                                cnt+=1\n",
    "                            if rec3[0][k]!='-':\n",
    "                                cnt2=k\n",
    "                                break\n",
    "                        rec3ins[i].append(cnt+1)\n",
    "    #                    i=cnt2\n",
    "\n",
    "    \n",
    "    #print(rec3dels)\n",
    "    #print(rec3ins)\n",
    "    \n",
    "    \n",
    "    rec3ins2=copy.deepcopy(rec3ins)\n",
    "    rec3dels2=copy.deepcopy(rec3dels)\n",
    "    cons=copy.deepcopy(rec3[0])\n",
    "    i=1\n",
    "\n",
    "    while i<len(cons):\n",
    "        if cons[i]=='-':\n",
    "            if rec3ins2[i]!=[]:\n",
    "                rec3ins2[i-1].extend(copy.deepcopy(rec3ins2[i]))\n",
    "            del rec3ins2[i]\n",
    "            if rec3dels2[i]!=[]:\n",
    "                rec3dels2[i-1].extend(copy.deepcopy(rec3dels2[i]))\n",
    "            del rec3dels2[i]\n",
    "            del cons[i]\n",
    "        else:\n",
    "            i+=1\n",
    "\n",
    "    print(rec3dels2)\n",
    "    print(rec3ins2)\n",
    "    \n",
    "    \n",
    "    df=pd.DataFrame(rec3dels2).T\n",
    "    #with pd.option_context('display.max_rows', None, 'display.max_columns', df.shape[1]):\n",
    "    #    display(df)\n",
    "\n",
    "    df2=pd.DataFrame(rec3ins2).T\n",
    "    #with pd.option_context('display.max_rows', None, 'display.max_columns', df2.shape[1]):\n",
    "    #    display(df2)\n",
    "\n",
    "    writer = pd.ExcelWriter(filename+'.xlsx')\n",
    "    df.to_excel(writer,'dels')\n",
    "    df2.to_excel(writer,'ins')\n",
    "\n",
    "    writer.save()\n",
    "\n",
    "\n",
    "\n"
   ]
  },
  {
   "cell_type": "code",
   "execution_count": 32,
   "metadata": {
    "scrolled": false
   },
   "outputs": [
    {
     "name": "stdout",
     "output_type": "stream",
     "text": [
      "[[], [37], [1, 1, 1, 1, 1, 1, 1, 1, 1, 1, 1, 1, 1], [2, 2, 1, 1, 5, 2], [1, 1], [1, 1, 1, 2, 1, 1], [1, 1, 1, 1, 1], [19, 19, 19, 19, 19, 19, 19, 19, 19, 19, 19, 19, 19, 19, 19, 19, 19, 19, 19, 19, 19, 19, 19, 19, 19, 19, 19, 19, 19, 19, 19, 19, 19, 19, 19, 19, 19, 19, 19, 19, 19, 19, 19, 19, 19, 19, 19, 19, 19, 19, 19, 19, 19, 19, 19, 19, 19, 19, 19, 19, 19, 19, 19, 19, 19, 19, 19], [10, 2], [1, 1, 1, 1, 1, 1, 1, 1, 1, 1, 1, 1, 1, 1, 2, 1, 1, 1], [1, 1, 1, 8], [], [2], [1, 1, 1, 1, 1, 1, 1], [1, 1], [1, 2, 1, 1, 2], [3], [1, 1, 1, 1, 1, 2, 1], [3, 3, 3, 3, 3, 3, 3, 3, 3, 3, 3, 3, 3, 3, 3, 3, 3, 3, 3, 2, 3, 3, 3, 3, 1, 3, 1, 2, 3, 3, 3, 3, 3, 3, 3, 3, 3, 3, 3, 1, 3, 3, 3, 3, 1, 3, 3, 3, 3, 3, 3, 3, 3, 3, 1, 3, 3, 3, 3, 3, 3, 3, 3, 3, 2, 3, 3], [2, 2, 4, 2, 4, 4, 2, 2, 2, 2, 2, 2, 2, 2, 4, 2, 4, 2, 2, 2, 2, 2, 4, 2, 2, 2, 2, 4, 2, 2, 2, 4, 4, 2, 2, 2], [1, 1, 1, 1, 1, 1, 1, 1, 1, 1, 1, 1, 1, 1, 1, 1, 1, 1, 1, 1, 1, 1, 1, 1, 1, 1, 1, 1, 1, 1, 1, 1, 1, 1, 1, 1, 1, 1, 1, 1, 1, 1, 1, 1, 1, 1, 1, 1, 1, 1, 1, 1, 1, 1, 1, 1, 1, 1, 1, 1, 1, 1, 1, 1, 1, 1, 1, 1, 1, 1, 1, 1, 1, 1, 1, 1, 1, 1, 1, 1, 1, 1, 1, 1, 1, 1, 1, 1, 1, 1, 1, 1, 1, 1, 1, 1, 1, 1, 1, 1, 1, 1, 1, 1, 1, 1, 1, 1, 1, 1, 1, 1, 1, 1, 1, 1, 1, 11, 1, 1, 1, 1, 1, 1, 1, 1, 1], [1, 1, 1, 1, 1, 1, 1, 1, 1, 1, 1, 1, 1, 1, 1, 1, 1, 1, 1, 1, 1, 1, 1, 1, 1, 1, 1, 1, 1, 1, 1, 1, 1, 1, 1, 1, 1, 1, 1, 1, 1, 1, 1, 1, 1, 1, 1, 1, 1, 1, 1, 1, 1, 1, 1, 1, 1, 1, 1, 1, 1, 1, 1, 1, 1, 1, 1, 1, 1, 1, 1, 1, 1, 1, 1], [2, 2, 2, 2, 2, 2, 2, 2, 2, 2, 2, 2, 2, 2, 2, 2, 2, 2, 2, 2, 2, 1, 2, 1, 2, 2, 2, 2, 2, 2, 2, 2, 2, 2, 2, 2, 2, 2, 2, 2, 2, 2, 2, 2, 2, 2, 2, 2, 2, 2, 2, 2, 2, 2, 2], [9, 1, 1], [1, 1, 2], [1, 1], [], [5, 22, 2], [1, 1, 1, 1, 1, 1, 1, 1, 1, 1, 1, 1, 1, 1, 1, 1, 1], [1, 1, 1], [1, 1, 1], [1, 1, 1, 1, 1, 1, 1, 1, 1], [1, 3, 1, 1, 1], [1, 1], [1, 1, 1], [1, 1, 5], [], [1, 1, 1, 1, 1, 1, 1], [9, 1, 1, 4, 1], [], [], [1, 1, 1, 1, 1, 1, 1, 1, 1, 1], [1, 1], [], [1, 1, 1, 1, 1], [1, 1, 2, 1, 1, 1, 1], [1, 2, 2], [1], [], []]\n",
      "[[], [1, 1], [1], [], [], [], [1], [], [], [], [1], [], [], [1, 1], [], [1], [], [1], [2, 1, 1, 1, 1, 1, 1, 1, 1, 1, 1, 1, 1], [1], [2, 1, 1, 1, 1, 1, 1, 1, 1, 1], [], [1, 1, 1, 1], [2, 2, 2, 2, 2, 2, 2, 2, 2, 2, 2, 2, 2, 2, 2, 2, 2, 2, 2, 2, 2, 2, 2, 2, 2, 2, 2, 2, 2, 2, 2, 2, 2, 2, 2, 2, 2, 2, 2, 2, 2, 2, 2, 2, 2, 2, 2, 2, 2, 2, 2, 2, 2, 2, 2, 2, 2, 2, 2, 2, 2, 2, 2, 2, 2, 2, 2, 2, 2, 2, 2, 2, 2, 2, 2, 1, 1], [1], [], [], [48, 48, 48, 48, 48, 48, 48, 48, 48, 48, 48, 48, 48, 48, 48, 48, 48, 48, 48, 48, 48, 48, 48, 48, 48, 48, 48, 48, 48, 48, 48, 48, 48, 48, 48, 48, 48, 48, 47], [1], [1], [], [], [], [2, 2, 2, 2, 2, 2, 2, 2, 2, 2, 1], [1], [], [], [], [1, 1, 1], [], [], [2, 2], [], [2], [1, 1], [], [], [], [], []]\n"
     ]
    }
   ],
   "source": [
    "count_indels(\"DK-M12_S125_R1_001 assembled to St4 - St4\")"
   ]
  },
  {
   "cell_type": "code",
   "execution_count": 23,
   "metadata": {},
   "outputs": [
    {
     "data": {
      "text/plain": [
       "'-------------------------------------'"
      ]
     },
     "execution_count": 23,
     "metadata": {},
     "output_type": "execute_result"
    }
   ],
   "source": [
    "\"-\" * 37"
   ]
  },
  {
   "cell_type": "code",
   "execution_count": 28,
   "metadata": {},
   "outputs": [
    {
     "data": {
      "text/plain": [
       "43"
      ]
     },
     "execution_count": 28,
     "metadata": {},
     "output_type": "execute_result"
    }
   ],
   "source": [
    "len(\"-------------------------------------------\")"
   ]
  },
  {
   "cell_type": "code",
   "execution_count": null,
   "metadata": {},
   "outputs": [],
   "source": []
  }
 ],
 "metadata": {
  "kernelspec": {
   "display_name": "Python 3",
   "language": "python",
   "name": "python3"
  },
  "language_info": {
   "codemirror_mode": {
    "name": "ipython",
    "version": 3
   },
   "file_extension": ".py",
   "mimetype": "text/x-python",
   "name": "python",
   "nbconvert_exporter": "python",
   "pygments_lexer": "ipython3",
   "version": "3.6.5"
  }
 },
 "nbformat": 4,
 "nbformat_minor": 2
}
