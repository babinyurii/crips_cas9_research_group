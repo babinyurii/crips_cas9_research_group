{
 "cells": [
  {
   "cell_type": "markdown",
   "metadata": {},
   "source": [
    "## problems : \n",
    "\n",
    "- when creating custom color map some values are not filled with color. Look when \"annot=True\". I believe, it's because you didn't do this colormap discrete. So, it takes 0 which is white, and there are many whites after it to, as it goes slowly. You need somehow to differentiate all the values after zero with different color\n",
    "\n",
    "- when annotating heatmap 0 is there too. You need somehow hide zeros: https://stackoverflow.com/questions/40128388/replace-0-with-blank-in-dataframe-python-pandas \n",
    "\n",
    "\n",
    "if you fail with seaborn, you can try to do it in matplotlib:\n",
    "https://matplotlib.org/gallery/images_contours_and_fields/image_annotated_heatmap.html\n",
    "there you can specify list of colors for a certain range of values\n",
    "\n"
   ]
  },
  {
   "cell_type": "markdown",
   "metadata": {},
   "source": [
    "## NOTES:\n",
    "converting rgb to matplotlib colors: \n",
    "https://stackoverflow.com/questions/21094288/convert-list-of-rgb-codes-to-matplotlib-colormap"
   ]
  },
  {
   "cell_type": "markdown",
   "metadata": {},
   "source": [
    "## TODO:\n",
    "- deriving mean coverage ('height' of alignment) from the original fasta to calculate percent instead of raw count. try/except if file not found in input data"
   ]
  },
  {
   "cell_type": "code",
   "execution_count": 1,
   "metadata": {},
   "outputs": [
    {
     "name": "stdout",
     "output_type": "stream",
     "text": [
      " Том в устройстве C имеет метку OS\n",
      " Серийный номер тома: 7E4D-BE36\n",
      "\n",
      " Содержимое папки C:\\Users\\babin.PCR_INT\\python_crispr_cas9\\plotting_indels\n",
      "\n",
      "25.09.2018  18:35    <DIR>          .\n",
      "25.09.2018  18:35    <DIR>          ..\n",
      "25.09.2018  16:08    <DIR>          .ipynb_checkpoints\n",
      "25.09.2018  18:35           156 159 creating_matrix_from_indels_dataframe.ipynb\n",
      "25.09.2018  14:24            14 501 DK-14-5_S221_R1_001 assembled to OT14-5.xlsx\n",
      "25.09.2018  10:56             6 960 playing_with_plots.ipynb\n",
      "               3 файлов        177 620 байт\n",
      "               3 папок  896 382 935 040 байт свободно\n"
     ]
    }
   ],
   "source": [
    "ls "
   ]
  },
  {
   "cell_type": "code",
   "execution_count": 2,
   "metadata": {},
   "outputs": [],
   "source": [
    "import pandas as pd"
   ]
  },
  {
   "cell_type": "code",
   "execution_count": 117,
   "metadata": {},
   "outputs": [],
   "source": [
    "df_dels = pd.read_excel(\"DK-14-5_S221_R1_001 assembled to OT14-5.xlsx\", cheet_name=0)"
   ]
  },
  {
   "cell_type": "code",
   "execution_count": 118,
   "metadata": {},
   "outputs": [
    {
     "data": {
      "text/html": [
       "<div>\n",
       "<style scoped>\n",
       "    .dataframe tbody tr th:only-of-type {\n",
       "        vertical-align: middle;\n",
       "    }\n",
       "\n",
       "    .dataframe tbody tr th {\n",
       "        vertical-align: top;\n",
       "    }\n",
       "\n",
       "    .dataframe thead th {\n",
       "        text-align: right;\n",
       "    }\n",
       "</style>\n",
       "<table border=\"1\" class=\"dataframe\">\n",
       "  <thead>\n",
       "    <tr style=\"text-align: right;\">\n",
       "      <th></th>\n",
       "      <th>('A', 1)</th>\n",
       "      <th>('G', 2)</th>\n",
       "      <th>('T', 3)</th>\n",
       "      <th>('T', 4)</th>\n",
       "      <th>('T', 5)</th>\n",
       "      <th>('G', 6)</th>\n",
       "      <th>('T', 7)</th>\n",
       "      <th>('A', 8)</th>\n",
       "      <th>('G', 9)</th>\n",
       "      <th>('G', 10)</th>\n",
       "      <th>...</th>\n",
       "      <th>('G', 41)</th>\n",
       "      <th>('T', 42)</th>\n",
       "      <th>('A', 43)</th>\n",
       "      <th>('G', 44)</th>\n",
       "      <th>('G', 45)</th>\n",
       "      <th>('T', 46)</th>\n",
       "      <th>('G', 47)</th>\n",
       "      <th>('G', 48)</th>\n",
       "      <th>('G', 49)</th>\n",
       "      <th>('A', 50)</th>\n",
       "    </tr>\n",
       "  </thead>\n",
       "  <tbody>\n",
       "    <tr>\n",
       "      <th>0</th>\n",
       "      <td>1.0</td>\n",
       "      <td>NaN</td>\n",
       "      <td>NaN</td>\n",
       "      <td>NaN</td>\n",
       "      <td>1.0</td>\n",
       "      <td>2.0</td>\n",
       "      <td>1.0</td>\n",
       "      <td>1.0</td>\n",
       "      <td>3.0</td>\n",
       "      <td>1.0</td>\n",
       "      <td>...</td>\n",
       "      <td>1.0</td>\n",
       "      <td>1.0</td>\n",
       "      <td>1.0</td>\n",
       "      <td>NaN</td>\n",
       "      <td>1.0</td>\n",
       "      <td>4.0</td>\n",
       "      <td>NaN</td>\n",
       "      <td>2.0</td>\n",
       "      <td>1</td>\n",
       "      <td>NaN</td>\n",
       "    </tr>\n",
       "    <tr>\n",
       "      <th>1</th>\n",
       "      <td>2.0</td>\n",
       "      <td>NaN</td>\n",
       "      <td>NaN</td>\n",
       "      <td>NaN</td>\n",
       "      <td>1.0</td>\n",
       "      <td>1.0</td>\n",
       "      <td>1.0</td>\n",
       "      <td>1.0</td>\n",
       "      <td>3.0</td>\n",
       "      <td>1.0</td>\n",
       "      <td>...</td>\n",
       "      <td>1.0</td>\n",
       "      <td>1.0</td>\n",
       "      <td>1.0</td>\n",
       "      <td>NaN</td>\n",
       "      <td>1.0</td>\n",
       "      <td>4.0</td>\n",
       "      <td>NaN</td>\n",
       "      <td>2.0</td>\n",
       "      <td>1</td>\n",
       "      <td>NaN</td>\n",
       "    </tr>\n",
       "    <tr>\n",
       "      <th>2</th>\n",
       "      <td>3.0</td>\n",
       "      <td>NaN</td>\n",
       "      <td>NaN</td>\n",
       "      <td>NaN</td>\n",
       "      <td>1.0</td>\n",
       "      <td>1.0</td>\n",
       "      <td>NaN</td>\n",
       "      <td>1.0</td>\n",
       "      <td>3.0</td>\n",
       "      <td>1.0</td>\n",
       "      <td>...</td>\n",
       "      <td>1.0</td>\n",
       "      <td>1.0</td>\n",
       "      <td>2.0</td>\n",
       "      <td>NaN</td>\n",
       "      <td>1.0</td>\n",
       "      <td>1.0</td>\n",
       "      <td>NaN</td>\n",
       "      <td>2.0</td>\n",
       "      <td>1</td>\n",
       "      <td>NaN</td>\n",
       "    </tr>\n",
       "    <tr>\n",
       "      <th>3</th>\n",
       "      <td>4.0</td>\n",
       "      <td>NaN</td>\n",
       "      <td>NaN</td>\n",
       "      <td>NaN</td>\n",
       "      <td>1.0</td>\n",
       "      <td>1.0</td>\n",
       "      <td>NaN</td>\n",
       "      <td>1.0</td>\n",
       "      <td>2.0</td>\n",
       "      <td>1.0</td>\n",
       "      <td>...</td>\n",
       "      <td>1.0</td>\n",
       "      <td>1.0</td>\n",
       "      <td>1.0</td>\n",
       "      <td>NaN</td>\n",
       "      <td>1.0</td>\n",
       "      <td>NaN</td>\n",
       "      <td>NaN</td>\n",
       "      <td>2.0</td>\n",
       "      <td>1</td>\n",
       "      <td>NaN</td>\n",
       "    </tr>\n",
       "    <tr>\n",
       "      <th>4</th>\n",
       "      <td>4.0</td>\n",
       "      <td>NaN</td>\n",
       "      <td>NaN</td>\n",
       "      <td>NaN</td>\n",
       "      <td>NaN</td>\n",
       "      <td>1.0</td>\n",
       "      <td>NaN</td>\n",
       "      <td>1.0</td>\n",
       "      <td>3.0</td>\n",
       "      <td>1.0</td>\n",
       "      <td>...</td>\n",
       "      <td>1.0</td>\n",
       "      <td>NaN</td>\n",
       "      <td>1.0</td>\n",
       "      <td>NaN</td>\n",
       "      <td>1.0</td>\n",
       "      <td>NaN</td>\n",
       "      <td>NaN</td>\n",
       "      <td>2.0</td>\n",
       "      <td>1</td>\n",
       "      <td>NaN</td>\n",
       "    </tr>\n",
       "  </tbody>\n",
       "</table>\n",
       "<p>5 rows × 50 columns</p>\n",
       "</div>"
      ],
      "text/plain": [
       "   ('A', 1)  ('G', 2)  ('T', 3)  ('T', 4)  ('T', 5)  ('G', 6)  ('T', 7)  \\\n",
       "0       1.0       NaN       NaN       NaN       1.0       2.0       1.0   \n",
       "1       2.0       NaN       NaN       NaN       1.0       1.0       1.0   \n",
       "2       3.0       NaN       NaN       NaN       1.0       1.0       NaN   \n",
       "3       4.0       NaN       NaN       NaN       1.0       1.0       NaN   \n",
       "4       4.0       NaN       NaN       NaN       NaN       1.0       NaN   \n",
       "\n",
       "   ('A', 8)  ('G', 9)  ('G', 10)    ...      ('G', 41)  ('T', 42)  ('A', 43)  \\\n",
       "0       1.0       3.0        1.0    ...            1.0        1.0        1.0   \n",
       "1       1.0       3.0        1.0    ...            1.0        1.0        1.0   \n",
       "2       1.0       3.0        1.0    ...            1.0        1.0        2.0   \n",
       "3       1.0       2.0        1.0    ...            1.0        1.0        1.0   \n",
       "4       1.0       3.0        1.0    ...            1.0        NaN        1.0   \n",
       "\n",
       "   ('G', 44)  ('G', 45)  ('T', 46)  ('G', 47)  ('G', 48)  ('G', 49)  ('A', 50)  \n",
       "0        NaN        1.0        4.0        NaN        2.0          1        NaN  \n",
       "1        NaN        1.0        4.0        NaN        2.0          1        NaN  \n",
       "2        NaN        1.0        1.0        NaN        2.0          1        NaN  \n",
       "3        NaN        1.0        NaN        NaN        2.0          1        NaN  \n",
       "4        NaN        1.0        NaN        NaN        2.0          1        NaN  \n",
       "\n",
       "[5 rows x 50 columns]"
      ]
     },
     "execution_count": 118,
     "metadata": {},
     "output_type": "execute_result"
    }
   ],
   "source": [
    "df_dels.head()"
   ]
  },
  {
   "cell_type": "code",
   "execution_count": 119,
   "metadata": {},
   "outputs": [],
   "source": [
    "for col in df_dels.columns:\n",
    "    col_inlist = df_dels.loc[ : , col].tolist()\n",
    "    break"
   ]
  },
  {
   "cell_type": "code",
   "execution_count": 120,
   "metadata": {},
   "outputs": [],
   "source": [
    "c_set_unique = set(col_inlist)"
   ]
  },
  {
   "cell_type": "code",
   "execution_count": 121,
   "metadata": {},
   "outputs": [],
   "source": [
    "c_set_unique = {x for x in c_set_unique if x==x} # deleting 'nan'"
   ]
  },
  {
   "cell_type": "code",
   "execution_count": 122,
   "metadata": {},
   "outputs": [],
   "source": [
    "from collections import OrderedDict"
   ]
  },
  {
   "cell_type": "code",
   "execution_count": 123,
   "metadata": {},
   "outputs": [],
   "source": [
    "d = OrderedDict()\n",
    "\n",
    "for indel in c_set_unique:\n",
    "    d[indel] = col_inlist.count(indel)"
   ]
  },
  {
   "cell_type": "code",
   "execution_count": 124,
   "metadata": {},
   "outputs": [],
   "source": [
    "from collections import OrderedDict"
   ]
  },
  {
   "cell_type": "code",
   "execution_count": 125,
   "metadata": {},
   "outputs": [],
   "source": [
    "\n",
    "\n",
    "df_dels = pd.read_excel(\"DK-14-5_S221_R1_001 assembled to OT14-5.xlsx\", cheet_name=0)\n",
    "dic_container = []\n",
    "for col in df_dels.columns:\n",
    "    \n",
    "    col_inlist = df_dels.loc[ : , col].tolist()\n",
    "    c_set_unique = set(col_inlist)\n",
    "    c_set_unique = {x for x in c_set_unique if x==x} # deleting 'nan'\n",
    "    \n",
    "    d = OrderedDict()\n",
    "    for indel in c_set_unique:\n",
    "        d[indel] = col_inlist.count(indel)\n",
    "    dic_container.append(d)"
   ]
  },
  {
   "cell_type": "code",
   "execution_count": 126,
   "metadata": {},
   "outputs": [],
   "source": [
    "df_from_dict = pd.DataFrame(dic_container).T"
   ]
  },
  {
   "cell_type": "code",
   "execution_count": 127,
   "metadata": {},
   "outputs": [],
   "source": [
    "df_from_dict.sort_index(axis=0, ascending=False, inplace=True)"
   ]
  },
  {
   "cell_type": "code",
   "execution_count": 128,
   "metadata": {},
   "outputs": [],
   "source": [
    "df_from_dict.columns = df_dels.columns"
   ]
  },
  {
   "cell_type": "code",
   "execution_count": 147,
   "metadata": {},
   "outputs": [
    {
     "data": {
      "text/html": [
       "<div>\n",
       "<style scoped>\n",
       "    .dataframe tbody tr th:only-of-type {\n",
       "        vertical-align: middle;\n",
       "    }\n",
       "\n",
       "    .dataframe tbody tr th {\n",
       "        vertical-align: top;\n",
       "    }\n",
       "\n",
       "    .dataframe thead th {\n",
       "        text-align: right;\n",
       "    }\n",
       "</style>\n",
       "<table border=\"1\" class=\"dataframe\">\n",
       "  <thead>\n",
       "    <tr style=\"text-align: right;\">\n",
       "      <th></th>\n",
       "      <th>('A', 1)</th>\n",
       "      <th>('G', 2)</th>\n",
       "      <th>('T', 3)</th>\n",
       "      <th>('T', 4)</th>\n",
       "      <th>('T', 5)</th>\n",
       "      <th>('G', 6)</th>\n",
       "      <th>('T', 7)</th>\n",
       "      <th>('A', 8)</th>\n",
       "      <th>('G', 9)</th>\n",
       "      <th>('G', 10)</th>\n",
       "      <th>...</th>\n",
       "      <th>('G', 41)</th>\n",
       "      <th>('T', 42)</th>\n",
       "      <th>('A', 43)</th>\n",
       "      <th>('G', 44)</th>\n",
       "      <th>('G', 45)</th>\n",
       "      <th>('T', 46)</th>\n",
       "      <th>('G', 47)</th>\n",
       "      <th>('G', 48)</th>\n",
       "      <th>('G', 49)</th>\n",
       "      <th>('A', 50)</th>\n",
       "    </tr>\n",
       "  </thead>\n",
       "  <tbody>\n",
       "    <tr>\n",
       "      <th>48.0</th>\n",
       "      <td>1.0</td>\n",
       "      <td>NaN</td>\n",
       "      <td>NaN</td>\n",
       "      <td>NaN</td>\n",
       "      <td>NaN</td>\n",
       "      <td>NaN</td>\n",
       "      <td>NaN</td>\n",
       "      <td>NaN</td>\n",
       "      <td>NaN</td>\n",
       "      <td>NaN</td>\n",
       "      <td>...</td>\n",
       "      <td>NaN</td>\n",
       "      <td>NaN</td>\n",
       "      <td>NaN</td>\n",
       "      <td>NaN</td>\n",
       "      <td>NaN</td>\n",
       "      <td>NaN</td>\n",
       "      <td>NaN</td>\n",
       "      <td>NaN</td>\n",
       "      <td>NaN</td>\n",
       "      <td>NaN</td>\n",
       "    </tr>\n",
       "    <tr>\n",
       "      <th>46.0</th>\n",
       "      <td>1.0</td>\n",
       "      <td>NaN</td>\n",
       "      <td>NaN</td>\n",
       "      <td>NaN</td>\n",
       "      <td>NaN</td>\n",
       "      <td>NaN</td>\n",
       "      <td>NaN</td>\n",
       "      <td>NaN</td>\n",
       "      <td>NaN</td>\n",
       "      <td>NaN</td>\n",
       "      <td>...</td>\n",
       "      <td>NaN</td>\n",
       "      <td>NaN</td>\n",
       "      <td>NaN</td>\n",
       "      <td>NaN</td>\n",
       "      <td>NaN</td>\n",
       "      <td>NaN</td>\n",
       "      <td>NaN</td>\n",
       "      <td>NaN</td>\n",
       "      <td>NaN</td>\n",
       "      <td>NaN</td>\n",
       "    </tr>\n",
       "    <tr>\n",
       "      <th>45.0</th>\n",
       "      <td>2.0</td>\n",
       "      <td>NaN</td>\n",
       "      <td>NaN</td>\n",
       "      <td>NaN</td>\n",
       "      <td>NaN</td>\n",
       "      <td>NaN</td>\n",
       "      <td>NaN</td>\n",
       "      <td>NaN</td>\n",
       "      <td>NaN</td>\n",
       "      <td>NaN</td>\n",
       "      <td>...</td>\n",
       "      <td>NaN</td>\n",
       "      <td>NaN</td>\n",
       "      <td>NaN</td>\n",
       "      <td>NaN</td>\n",
       "      <td>NaN</td>\n",
       "      <td>NaN</td>\n",
       "      <td>NaN</td>\n",
       "      <td>NaN</td>\n",
       "      <td>NaN</td>\n",
       "      <td>NaN</td>\n",
       "    </tr>\n",
       "    <tr>\n",
       "      <th>41.0</th>\n",
       "      <td>3.0</td>\n",
       "      <td>NaN</td>\n",
       "      <td>NaN</td>\n",
       "      <td>NaN</td>\n",
       "      <td>NaN</td>\n",
       "      <td>NaN</td>\n",
       "      <td>NaN</td>\n",
       "      <td>NaN</td>\n",
       "      <td>NaN</td>\n",
       "      <td>NaN</td>\n",
       "      <td>...</td>\n",
       "      <td>NaN</td>\n",
       "      <td>NaN</td>\n",
       "      <td>NaN</td>\n",
       "      <td>NaN</td>\n",
       "      <td>NaN</td>\n",
       "      <td>NaN</td>\n",
       "      <td>NaN</td>\n",
       "      <td>NaN</td>\n",
       "      <td>NaN</td>\n",
       "      <td>NaN</td>\n",
       "    </tr>\n",
       "    <tr>\n",
       "      <th>38.0</th>\n",
       "      <td>1.0</td>\n",
       "      <td>NaN</td>\n",
       "      <td>NaN</td>\n",
       "      <td>NaN</td>\n",
       "      <td>NaN</td>\n",
       "      <td>NaN</td>\n",
       "      <td>NaN</td>\n",
       "      <td>NaN</td>\n",
       "      <td>NaN</td>\n",
       "      <td>NaN</td>\n",
       "      <td>...</td>\n",
       "      <td>NaN</td>\n",
       "      <td>NaN</td>\n",
       "      <td>NaN</td>\n",
       "      <td>NaN</td>\n",
       "      <td>NaN</td>\n",
       "      <td>NaN</td>\n",
       "      <td>NaN</td>\n",
       "      <td>NaN</td>\n",
       "      <td>NaN</td>\n",
       "      <td>NaN</td>\n",
       "    </tr>\n",
       "  </tbody>\n",
       "</table>\n",
       "<p>5 rows × 50 columns</p>\n",
       "</div>"
      ],
      "text/plain": [
       "      ('A', 1)  ('G', 2)  ('T', 3)  ('T', 4)  ('T', 5)  ('G', 6)  ('T', 7)  \\\n",
       "48.0       1.0       NaN       NaN       NaN       NaN       NaN       NaN   \n",
       "46.0       1.0       NaN       NaN       NaN       NaN       NaN       NaN   \n",
       "45.0       2.0       NaN       NaN       NaN       NaN       NaN       NaN   \n",
       "41.0       3.0       NaN       NaN       NaN       NaN       NaN       NaN   \n",
       "38.0       1.0       NaN       NaN       NaN       NaN       NaN       NaN   \n",
       "\n",
       "      ('A', 8)  ('G', 9)  ('G', 10)    ...      ('G', 41)  ('T', 42)  \\\n",
       "48.0       NaN       NaN        NaN    ...            NaN        NaN   \n",
       "46.0       NaN       NaN        NaN    ...            NaN        NaN   \n",
       "45.0       NaN       NaN        NaN    ...            NaN        NaN   \n",
       "41.0       NaN       NaN        NaN    ...            NaN        NaN   \n",
       "38.0       NaN       NaN        NaN    ...            NaN        NaN   \n",
       "\n",
       "      ('A', 43)  ('G', 44)  ('G', 45)  ('T', 46)  ('G', 47)  ('G', 48)  \\\n",
       "48.0        NaN        NaN        NaN        NaN        NaN        NaN   \n",
       "46.0        NaN        NaN        NaN        NaN        NaN        NaN   \n",
       "45.0        NaN        NaN        NaN        NaN        NaN        NaN   \n",
       "41.0        NaN        NaN        NaN        NaN        NaN        NaN   \n",
       "38.0        NaN        NaN        NaN        NaN        NaN        NaN   \n",
       "\n",
       "      ('G', 49)  ('A', 50)  \n",
       "48.0        NaN        NaN  \n",
       "46.0        NaN        NaN  \n",
       "45.0        NaN        NaN  \n",
       "41.0        NaN        NaN  \n",
       "38.0        NaN        NaN  \n",
       "\n",
       "[5 rows x 50 columns]"
      ]
     },
     "execution_count": 147,
     "metadata": {},
     "output_type": "execute_result"
    }
   ],
   "source": [
    "df_from_dict.head()"
   ]
  },
  {
   "cell_type": "markdown",
   "metadata": {},
   "source": [
    "** here we return max value from the dataframe in two steps, as 'nan' > 403 "
   ]
  },
  {
   "cell_type": "code",
   "execution_count": 150,
   "metadata": {},
   "outputs": [],
   "source": [
    "ser_max = df_from_dict.max()"
   ]
  },
  {
   "cell_type": "code",
   "execution_count": 151,
   "metadata": {},
   "outputs": [
    {
     "data": {
      "text/plain": [
       "403.0"
      ]
     },
     "execution_count": 151,
     "metadata": {},
     "output_type": "execute_result"
    }
   ],
   "source": [
    "ser_max.max()"
   ]
  },
  {
   "cell_type": "code",
   "execution_count": 129,
   "metadata": {},
   "outputs": [],
   "source": [
    "raw_del_count = df_from_dict.sum(axis=0)"
   ]
  },
  {
   "cell_type": "code",
   "execution_count": 130,
   "metadata": {},
   "outputs": [
    {
     "data": {
      "text/plain": [
       "Index(['('A', 1)', '('G', 2)', '('T', 3)', '('T', 4)', '('T', 5)', '('G', 6)',\n",
       "       '('T', 7)', '('A', 8)', '('G', 9)', '('G', 10)', '('A', 11)',\n",
       "       '('C', 12)', '('C', 13)', '('C', 14)', '('C', 15)', '('T', 16)',\n",
       "       '('G', 17)', '('C', 18)', '('A', 19)', '('C', 20)', '('A', 21)',\n",
       "       '('G', 22)', '('T', 23)', '('A', 24)', '('T', 25)', '('G', 26)',\n",
       "       '('C', 27)', '('A', 28)', '('T', 29)', '('G', 30)', '('G', 31)',\n",
       "       '('G', 32)', '('C', 33)', '('A', 34)', '('G', 35)', '('T', 36)',\n",
       "       '('G', 37)', '('G', 38)', '('C', 39)', '('A', 40)', '('G', 41)',\n",
       "       '('T', 42)', '('A', 43)', '('G', 44)', '('G', 45)', '('T', 46)',\n",
       "       '('G', 47)', '('G', 48)', '('G', 49)', '('A', 50)'],\n",
       "      dtype='object')"
      ]
     },
     "execution_count": 130,
     "metadata": {},
     "output_type": "execute_result"
    }
   ],
   "source": [
    "raw_del_count.index"
   ]
  },
  {
   "cell_type": "code",
   "execution_count": 131,
   "metadata": {},
   "outputs": [],
   "source": [
    "import matplotlib.pyplot as plt\n",
    "sns.set()"
   ]
  },
  {
   "cell_type": "code",
   "execution_count": null,
   "metadata": {},
   "outputs": [],
   "source": []
  },
  {
   "cell_type": "code",
   "execution_count": 132,
   "metadata": {},
   "outputs": [
    {
     "data": {
      "text/plain": [
       "Text(0,0.5,'count')"
      ]
     },
     "execution_count": 132,
     "metadata": {},
     "output_type": "execute_result"
    },
    {
     "data": {
      "image/png": "[encoded data removed]",
      "text/plain": [
       "<Figure size 1440x504 with 1 Axes>"
      ]
     },
     "metadata": {},
     "output_type": "display_data"
    }
   ],
   "source": [
    "fig_raw_count = plt.figure(figsize=(20, 7))\n",
    "plt.bar(raw_del_count.index, raw_del_count, alpha=0.8)\n",
    "\n",
    "\n",
    "\n",
    "plt.xticks(list(range(len(raw_del_count))), list(range(1, len(raw_del_count)+1)))\n",
    "\n",
    "plt.title(\"all deletion count irrespective deletion length\")\n",
    "plt.xlabel(\"nuc pos\")\n",
    "plt.ylabel(\"count\")"
   ]
  },
  {
   "cell_type": "code",
   "execution_count": null,
   "metadata": {},
   "outputs": [],
   "source": []
  },
  {
   "cell_type": "code",
   "execution_count": null,
   "metadata": {},
   "outputs": [],
   "source": []
  },
  {
   "cell_type": "code",
   "execution_count": null,
   "metadata": {},
   "outputs": [],
   "source": []
  },
  {
   "cell_type": "code",
   "execution_count": 133,
   "metadata": {},
   "outputs": [],
   "source": [
    "import seaborn as sns"
   ]
  },
  {
   "cell_type": "code",
   "execution_count": 134,
   "metadata": {},
   "outputs": [
    {
     "data": {
      "image/png": "[encoded data removed]",
      "text/plain": [
       "<Figure size 1440x576 with 2 Axes>"
      ]
     },
     "metadata": {},
     "output_type": "display_data"
    }
   ],
   "source": [
    "import matplotlib.pyplot as plt\n",
    "fig = plt.figure(figsize=(20, 8))\n",
    "sns.heatmap(df_from_dict, cmap=\"Greys\")\n",
    "\n",
    "\n",
    "\n",
    "plt.show()"
   ]
  },
  {
   "cell_type": "code",
   "execution_count": null,
   "metadata": {},
   "outputs": [],
   "source": []
  },
  {
   "cell_type": "code",
   "execution_count": null,
   "metadata": {},
   "outputs": [],
   "source": []
  },
  {
   "cell_type": "code",
   "execution_count": null,
   "metadata": {},
   "outputs": [],
   "source": []
  },
  {
   "cell_type": "code",
   "execution_count": null,
   "metadata": {},
   "outputs": [],
   "source": []
  },
  {
   "cell_type": "code",
   "execution_count": null,
   "metadata": {},
   "outputs": [],
   "source": []
  },
  {
   "cell_type": "markdown",
   "metadata": {},
   "source": [
    "from here : \n",
    "https://stackoverflow.com/questions/14777066/matplotlib-discrete-colorbar"
   ]
  },
  {
   "cell_type": "code",
   "execution_count": 136,
   "metadata": {},
   "outputs": [],
   "source": [
    "cmap = plt.cm.jet"
   ]
  },
  {
   "cell_type": "code",
   "execution_count": 137,
   "metadata": {},
   "outputs": [],
   "source": [
    "cmaplist = [cmap(i) for i in range(cmap.N)]"
   ]
  },
  {
   "cell_type": "code",
   "execution_count": 138,
   "metadata": {},
   "outputs": [],
   "source": [
    "cmaplist[0] = (.5, .5, .5, 1.0)"
   ]
  },
  {
   "cell_type": "code",
   "execution_count": 139,
   "metadata": {},
   "outputs": [
    {
     "data": {
      "text/plain": [
       "256"
      ]
     },
     "execution_count": 139,
     "metadata": {},
     "output_type": "execute_result"
    }
   ],
   "source": [
    "len(cmaplist)"
   ]
  },
  {
   "cell_type": "code",
   "execution_count": 140,
   "metadata": {},
   "outputs": [],
   "source": [
    "import matplotlib as mpl\n",
    "import numpy as np"
   ]
  },
  {
   "cell_type": "code",
   "execution_count": 141,
   "metadata": {},
   "outputs": [],
   "source": [
    "#cmaplist[0] = (1, 1, 1, 1)"
   ]
  },
  {
   "cell_type": "code",
   "execution_count": 142,
   "metadata": {},
   "outputs": [
    {
     "data": {
      "text/plain": [
       "256"
      ]
     },
     "execution_count": 142,
     "metadata": {},
     "output_type": "execute_result"
    }
   ],
   "source": [
    "len(cmaplist)"
   ]
  },
  {
   "cell_type": "code",
   "execution_count": 143,
   "metadata": {},
   "outputs": [],
   "source": [
    "cmap = cmap.from_list('Custom cmap', cmaplist, cmap.N)"
   ]
  },
  {
   "cell_type": "code",
   "execution_count": 144,
   "metadata": {},
   "outputs": [],
   "source": [
    "bounds = np.linspace(0,403,403)\n",
    "norm = mpl.colors.BoundaryNorm(bounds, cmap.N)"
   ]
  },
  {
   "cell_type": "code",
   "execution_count": null,
   "metadata": {},
   "outputs": [],
   "source": []
  },
  {
   "cell_type": "code",
   "execution_count": 145,
   "metadata": {},
   "outputs": [
    {
     "data": {
      "image/png": "[encoded data removed]",
      "text/plain": [
       "<Figure size 1440x576 with 2 Axes>"
      ]
     },
     "metadata": {},
     "output_type": "display_data"
    }
   ],
   "source": [
    "import matplotlib.pyplot as plt\n",
    "fig = plt.figure(figsize=(20, 8))\n",
    "sns.heatmap(df_from_dict, cmap=cmap, norm=norm, annot=True)\n",
    "\n",
    "\n",
    "\n",
    "plt.show()"
   ]
  },
  {
   "cell_type": "code",
   "execution_count": 57,
   "metadata": {},
   "outputs": [
    {
     "data": {
      "text/plain": [
       "256"
      ]
     },
     "execution_count": 57,
     "metadata": {},
     "output_type": "execute_result"
    }
   ],
   "source": [
    "len(cmaplist)"
   ]
  },
  {
   "cell_type": "code",
   "execution_count": 173,
   "metadata": {},
   "outputs": [],
   "source": []
  },
  {
   "cell_type": "code",
   "execution_count": 161,
   "metadata": {},
   "outputs": [],
   "source": [
    "cmap_short = cmaplist[170:]\n",
    "#cmap_short[0] = (.5,.5,.5,1.0)\n",
    "cmap_short[0] = (1, 1, 1, 1)"
   ]
  },
  {
   "cell_type": "code",
   "execution_count": 171,
   "metadata": {},
   "outputs": [
    {
     "data": {
      "image/png": "[encoded data removed]",
      "text/plain": [
       "<Figure size 1440x576 with 2 Axes>"
      ]
     },
     "metadata": {},
     "output_type": "display_data"
    }
   ],
   "source": [
    "import matplotlib.pyplot as plt\n",
    "fig = plt.figure(figsize=(20, 8))\n",
    "sns.heatmap(df_from_dict, cmap=cmap_short)\n",
    "\n",
    "\n",
    "\n",
    "plt.show()"
   ]
  },
  {
   "cell_type": "code",
   "execution_count": null,
   "metadata": {},
   "outputs": [],
   "source": []
  },
  {
   "cell_type": "code",
   "execution_count": null,
   "metadata": {},
   "outputs": [],
   "source": []
  },
  {
   "cell_type": "code",
   "execution_count": 170,
   "metadata": {},
   "outputs": [],
   "source": [
    "cmap_blue = cmaplist[:125]"
   ]
  },
  {
   "cell_type": "code",
   "execution_count": 168,
   "metadata": {},
   "outputs": [],
   "source": [
    "cmap_blue = cmap_blue[::-1]"
   ]
  },
  {
   "cell_type": "code",
   "execution_count": null,
   "metadata": {},
   "outputs": [],
   "source": []
  },
  {
   "cell_type": "code",
   "execution_count": 148,
   "metadata": {},
   "outputs": [],
   "source": [
    "cmap_blue[0] = (1,1,1,1)"
   ]
  },
  {
   "cell_type": "code",
   "execution_count": null,
   "metadata": {},
   "outputs": [],
   "source": [
    "bounds = np.linspace(0,400,401)\n",
    "norm = mpl.colors.BoundaryNorm(bounds, cmap.N)"
   ]
  },
  {
   "cell_type": "code",
   "execution_count": 169,
   "metadata": {},
   "outputs": [
    {
     "data": {
      "image/png": "[encoded data removed]",
      "text/plain": [
       "<Figure size 1440x576 with 2 Axes>"
      ]
     },
     "metadata": {},
     "output_type": "display_data"
    }
   ],
   "source": [
    "import matplotlib.pyplot as plt\n",
    "fig = plt.figure(figsize=(20, 8))\n",
    "sns.heatmap(df_from_dict, cmap=cmap_blue)\n",
    "\n",
    "\n",
    "\n",
    "plt.show()"
   ]
  },
  {
   "cell_type": "code",
   "execution_count": null,
   "metadata": {},
   "outputs": [],
   "source": []
  }
 ],
 "metadata": {
  "kernelspec": {
   "display_name": "Python 3",
   "language": "python",
   "name": "python3"
  },
  "language_info": {
   "codemirror_mode": {
    "name": "ipython",
    "version": 3
   },
   "file_extension": ".py",
   "mimetype": "text/x-python",
   "name": "python",
   "nbconvert_exporter": "python",
   "pygments_lexer": "ipython3",
   "version": "3.6.5"
  }
 },
 "nbformat": 4,
 "nbformat_minor": 2
}
