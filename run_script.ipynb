{
 "cells": [
  {
   "cell_type": "markdown",
   "metadata": {
    "deletable": false,
    "editable": false
   },
   "source": [
    "## How to launch this script:\n",
    "\n",
    "1. create a folder named <span style=\"background-color:lightgrey\">input_data</span> in the current directory and paste your files in 'fasta' format into it\n",
    "2. click on the cell below to activate it : the frame of the cell will turn green. To count indels, click on the cell below which contains the following code:\n",
    "\n",
    "```python\n",
    "from run_count_indels import run_count_indels\n",
    "\n",
    "run_count_indels()\n",
    "```\n",
    "\n",
    "after that to run the script do one of the following:\n",
    "- click <span style=\"background-color:lightgrey\">Run</span> button on the panel above\n",
    "- or press <span style=\"background-color:lightgrey\">Shift + Enter</span> or <span style=\"background-color:lightgrey\">Ctrl + Enter</span>\n",
    "\n",
    "\n",
    "3. when the script finishes its work, the results in excel spreadsheets will be written into the folder <span style=\"background-color:lightgrey\">output_indels</span> in the current directory\n",
    "\n",
    "4. if you want to stop running script, click <span style=\"background-color:lightgrey\">stop</span> button on the panel above (which is black square).\n",
    "\n",
    "\n",
    "\n"
   ]
  },
  {
   "cell_type": "code",
   "execution_count": 1,
   "metadata": {
    "deletable": false,
    "editable": false,
    "scrolled": false
   },
   "outputs": [
    {
     "name": "stdout",
     "output_type": "stream",
     "text": [
      "\n",
      "    ---------------\n",
      "    job started at 2018-09-21 17:20:08 ...\n",
      "    ---------------\n",
      "    \n",
      "processing file 'test_align.fasta'\n",
      "file 'test_align' processing finished at: 2018-09-21 17:20:09 \n",
      "\n",
      "processing file 'test_align_simple.fasta'\n",
      "file 'test_align_simple' processing finished at: 2018-09-21 17:20:09 \n",
      "\n",
      "processing file 'test_gaps.fasta'\n",
      "file 'test_gaps' processing finished at: 2018-09-21 17:20:09 \n",
      "\n",
      "\n",
      "    \n",
      "    file processed: 3\n",
      "    time taken: 0.0 hours 0.0 minutes 1 seconds\n",
      "    \n",
      "    the results are in the folder 'output_indels'\n",
      "    \n",
      "    ---------------\n",
      "    ... job finished at 2018-09-21 17:20:09\n",
      "    ---------------\n",
      "    \n",
      "    \n"
     ]
    }
   ],
   "source": [
    "from run_count_indels import run_count_indels\n",
    "\n",
    "run_count_indels()"
   ]
  },
  {
   "cell_type": "code",
   "execution_count": null,
   "metadata": {},
   "outputs": [],
   "source": []
  }
 ],
 "metadata": {
  "celltoolbar": "Edit Metadata",
  "kernelspec": {
   "display_name": "Python 3",
   "language": "python",
   "name": "python3"
  },
  "language_info": {
   "codemirror_mode": {
    "name": "ipython",
    "version": 3
   },
   "file_extension": ".py",
   "mimetype": "text/x-python",
   "name": "python",
   "nbconvert_exporter": "python",
   "pygments_lexer": "ipython3",
   "version": "3.6.5"
  }
 },
 "nbformat": 4,
 "nbformat_minor": 2
}
