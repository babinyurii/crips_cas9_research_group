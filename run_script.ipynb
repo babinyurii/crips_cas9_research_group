{
 "cells": [
  {
   "cell_type": "markdown",
   "metadata": {
    "deletable": false,
    "editable": false
   },
   "source": [
    "## How to launch this script:\n",
    "\n",
    "1. create a folder named <span style=\"background-color:lightgrey\"> 'input_data' </span> in the current directory and paste your files in 'fasta' format into it\n",
    "2. click on the cell below to activate it : the frame of the cell will turn green. To count indels, click on the cell below which contains the following code:\n",
    "\n",
    "```python\n",
    "from run_count_indels import run_count_indels\n",
    "\n",
    "run_count_indels()\n",
    "```\n",
    "\n",
    "after that to run the script do one of the following:\n",
    "- click <span style=\"background-color:lightgrey\"> 'Run' </span> button on the panel above\n",
    "- press <span style=\"background-color:lightgrey\">'Shift + Enter'</span> or <span style=\"background-color:lightgrey\"> 'Shift + Ctrl' </span>\n",
    "\n",
    "\n",
    "\n",
    "3. when the script finishes its work, the results in excel spreadsheets will be written into the folder <span style=\"background-color:lightgrey\">  'output_indels'</span> in the current directory\n",
    "\n",
    "\n",
    "\n"
   ]
  },
  {
   "cell_type": "code",
   "execution_count": 1,
   "metadata": {
    "deletable": false,
    "editable": false,
    "scrolled": true
   },
   "outputs": [
    {
     "name": "stdout",
     "output_type": "stream",
     "text": [
      "\n",
      "    ---------------\n",
      "    job started at 2018-09-21 13:40:07 ...\n",
      "    ---------------\n",
      "    \n",
      "processing file 'DK-14-10_S218_R1_001 assembled to OT14-10.fasta'\n",
      "file 'DK-14-10_S218_R1_001 assembled to OT14-10' processing finished at: 2018-09-21 14:07:19 \n",
      "\n",
      "processing file 'DK-14-3_S220_R1_001 assembled to OT14-3.fasta'\n",
      "file 'DK-14-3_S220_R1_001 assembled to OT14-3' processing finished at: 2018-09-21 14:32:40 \n",
      "\n",
      "processing file 'DK-M12_S125_R1_001 assembled to St4 - St4.fasta'\n",
      "file 'DK-M12_S125_R1_001 assembled to St4 - St4' processing finished at: 2018-09-21 14:33:33 \n",
      "\n",
      "processing file 'test_align.fasta'\n",
      "file 'test_align' processing finished at: 2018-09-21 14:33:33 \n",
      "\n",
      "processing file 'test_align_simple.fasta'\n",
      "file 'test_align_simple' processing finished at: 2018-09-21 14:33:33 \n",
      "\n",
      "processing file 'test_gaps.fasta'\n",
      "file 'test_gaps' processing finished at: 2018-09-21 14:33:33 \n",
      "\n",
      "warning: item 'Документ Microsoft Word.docx' isn't a fasta file. it won't be processed\n",
      "\n",
      "warning: please, don't put folders into the 'input_data' folder.                I believe this is a folder: 'Новая папка':\n",
      "\n",
      "warning: item 'Новый текстовый документ.txt' isn't a fasta file. it won't be processed\n",
      "\n",
      "warning: item 'Презентация Microsoft PowerPoint.pptx' isn't a fasta file. it won't be processed\n",
      "\n",
      "\n",
      "    \n",
      "    file processed: 6\n",
      "    time taken: 0.0 hours 53.0 minutes 26 seconds\n",
      "    \n",
      "    the results are in the folder 'output_indels'\n",
      "    \n",
      "    ---------------\n",
      "    ... job finished at 2018-09-21 14:33:33\n",
      "    ---------------\n",
      "    \n",
      "    \n"
     ]
    }
   ],
   "source": [
    "from run_count_indels import run_count_indels\n",
    "\n",
    "run_count_indels()"
   ]
  },
  {
   "cell_type": "code",
   "execution_count": null,
   "metadata": {},
   "outputs": [],
   "source": []
  }
 ],
 "metadata": {
  "kernelspec": {
   "display_name": "Python 3",
   "language": "python",
   "name": "python3"
  },
  "language_info": {
   "codemirror_mode": {
    "name": "ipython",
    "version": 3
   },
   "file_extension": ".py",
   "mimetype": "text/x-python",
   "name": "python",
   "nbconvert_exporter": "python",
   "pygments_lexer": "ipython3",
   "version": "3.6.5"
  }
 },
 "nbformat": 4,
 "nbformat_minor": 2
}
