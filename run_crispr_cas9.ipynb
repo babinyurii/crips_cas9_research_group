{
 "cells": [
  {
   "cell_type": "markdown",
   "metadata": {
    "deletable": false
   },
   "source": [
    "## Instruction for guys from HBV cripr/cas9 research group:\n",
    "\n",
    "1. create a folder named <span style=\"background-color:lightgrey\">input_data</span> in the current directory and paste your files in 'fasta' format into it\n",
    "\n",
    "2. To count indels, click on the cell below which contains the following code:\n",
    "\n",
    "```python\n",
    "%run -m crispr_cas9.count_indels\n",
    "```\n",
    "\n",
    "\n",
    "after that to run the script do one of the following:\n",
    "- click <span style=\"background-color:lightgrey\">Run</span> button on the panel above\n",
    "- or press <span style=\"background-color:lightgrey\">Shift + Enter</span> or <span style=\"background-color:lightgrey\">Ctrl + Enter</span>\n",
    "\n",
    "\n",
    "when the script finishes its work, the results will be written into the folder <span style=\"background-color:lightgrey\">output_indels</span>  in the current directory\n",
    "\n",
    "\n",
    "3. To create matrices, click on the cell below which contains the following code:\n",
    "\n",
    "```python\n",
    "%run -m crispr_cas9.create_matrices\n",
    "```\n",
    "\n",
    "after that to run the script do one of the following:\n",
    "- click <span style=\"background-color:lightgrey\">Run</span> button on the panel above\n",
    "- or press <span style=\"background-color:lightgrey\">Shift + Enter</span> or <span style=\"background-color:lightgrey\">Ctrl + Enter</span>\n",
    "\n",
    "\n",
    "when the script finishes its work, the results will be written into the folder <span style=\"background-color:lightgrey\">output_matrices</span>  in the current directory\n",
    "\n",
    "\n",
    "4. To create plots using the excel spreadsheets made by the previous command, click on the next cell with the code:\n",
    "\n",
    "```python\n",
    "%run -m crispr_cas9.create_plots\n",
    "```\n",
    "and again to run the script do one of the following:\n",
    "- click <span style=\"background-color:lightgrey\">Run</span> button on the panel above\n",
    "- or press <span style=\"background-color:lightgrey\">Shift + Enter</span> or <span style=\"background-color:lightgrey\">Ctrl + Enter</span>\n",
    "\n",
    "when this script finishes its work, the results will be written into the folder <span style=\"background-color:lightgrey\">output_plots</span>  in the current directory\n",
    "\n",
    "\n",
    "\n",
    "\n",
    "\n",
    "NOTES: \n",
    "- if you want to stop running script, click <span style=\"background-color:lightgrey\">stop</span> button on the panel above (which is black square).\n",
    "\n",
    "\n"
   ]
  },
  {
   "cell_type": "code",
   "execution_count": 7,
   "metadata": {},
   "outputs": [],
   "source": [
    "import crispr_cas9"
   ]
  },
  {
   "cell_type": "code",
   "execution_count": 8,
   "metadata": {
    "deletable": false
   },
   "outputs": [
    {
     "name": "stdout",
     "output_type": "stream",
     "text": [
      "\n",
      "    ---------------\n",
      "    job started at 2021-03-23 08:12:04 ...\n",
      "    ---------------\n",
      "    \n"
     ]
    },
    {
     "data": {
      "application/vnd.jupyter.widget-view+json": {
       "model_id": "94021d7a2d1248b29437b5dc8df0a97c",
       "version_major": 2,
       "version_minor": 0
      },
      "text/plain": [
       "IntProgress(value=0, bar_style='success', max=2)"
      ]
     },
     "metadata": {},
     "output_type": "display_data"
    },
    {
     "name": "stdout",
     "output_type": "stream",
     "text": [
      "\n",
      "    \n",
      "    file processed: 2\n",
      "    time taken: 0.0 hours 0.0 minutes 2 seconds\n",
      "    \n",
      "    the results are in the folder 'output_indels'\n",
      "    \n",
      "    ---------------\n",
      "    ... job finished at 2021-03-23 08:12:06\n",
      "    ---------------\n",
      "    \n",
      "    \n"
     ]
    }
   ],
   "source": [
    "%run -m crispr_cas9.count_indels"
   ]
  },
  {
   "cell_type": "code",
   "execution_count": 9,
   "metadata": {
    "scrolled": true
   },
   "outputs": [
    {
     "name": "stdout",
     "output_type": "stream",
     "text": [
      "\n",
      "    ---------------\n",
      "    job started at 2021-03-23 08:12:15 ...\n",
      "    ---------------\n",
      "    \n"
     ]
    },
    {
     "data": {
      "application/vnd.jupyter.widget-view+json": {
       "model_id": "47ac51345f444680beadc42a87c26570",
       "version_major": 2,
       "version_minor": 0
      },
      "text/plain": [
       "IntProgress(value=0, bar_style='success', max=2)"
      ]
     },
     "metadata": {},
     "output_type": "display_data"
    },
    {
     "name": "stdout",
     "output_type": "stream",
     "text": [
      "\n",
      "    \n",
      "    file processed: 2\n",
      "    time taken: 0.0 hours 0.0 minutes 33 seconds\n",
      "    \n",
      "    the results are in the folder 'output_indels'\n",
      "    \n",
      "    ---------------\n",
      "    ... job finished at 2021-03-23 08:12:48\n",
      "    ---------------\n",
      "    \n",
      "    \n"
     ]
    }
   ],
   "source": [
    "%run -m crispr_cas9.create_matrices"
   ]
  },
  {
   "cell_type": "code",
   "execution_count": 10,
   "metadata": {
    "scrolled": true
   },
   "outputs": [
    {
     "name": "stdout",
     "output_type": "stream",
     "text": [
      "\n",
      "    ---------------\n",
      "    job started at 2021-03-23 08:12:48 ...\n",
      "    ---------------\n",
      "    \n"
     ]
    },
    {
     "data": {
      "application/vnd.jupyter.widget-view+json": {
       "model_id": "465c3a7d5ec442039d59d023e651fd8e",
       "version_major": 2,
       "version_minor": 0
      },
      "text/plain": [
       "IntProgress(value=0, bar_style='success', max=8)"
      ]
     },
     "metadata": {},
     "output_type": "display_data"
    },
    {
     "name": "stdout",
     "output_type": "stream",
     "text": [
      "\n",
      "    \n",
      "    file processed: 8\n",
      "    time taken: 0.0 hours 0.0 minutes 29 seconds\n",
      "    \n",
      "    the results are in the folder 'output_plots'\n",
      "    \n",
      "    ---------------\n",
      "    ... job finished at 2021-03-23 08:13:18\n",
      "    ---------------\n",
      "    \n",
      "    \n"
     ]
    }
   ],
   "source": [
    "%run -m crispr_cas9.create_plots"
   ]
  },
  {
   "cell_type": "code",
   "execution_count": null,
   "metadata": {},
   "outputs": [],
   "source": []
  }
 ],
 "metadata": {
  "celltoolbar": "Edit Metadata",
  "kernelspec": {
   "display_name": "Python 3",
   "language": "python",
   "name": "python3"
  },
  "language_info": {
   "codemirror_mode": {
    "name": "ipython",
    "version": 3
   },
   "file_extension": ".py",
   "mimetype": "text/x-python",
   "name": "python",
   "nbconvert_exporter": "python",
   "pygments_lexer": "ipython3",
   "version": "3.8.5"
  }
 },
 "nbformat": 4,
 "nbformat_minor": 4
}
