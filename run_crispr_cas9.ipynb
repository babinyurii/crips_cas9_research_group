{
 "cells": [
  {
   "cell_type": "markdown",
   "metadata": {
    "deletable": false,
    "editable": false,
    "scrolled": false
   },
   "source": [
    "## Instruction for guys from HBV cripr/cas9 research group:\n",
    "\n",
    "1. create a folder named <span style=\"background-color:lightgrey\">input_data</span> in the current directory and paste your files in 'fasta' format into it\n",
    "\n",
    "2. To count indels, click on the cell below which contains the following code:\n",
    "\n",
    "```python\n",
    "%run ./crispr_cas9_scripts/crispr_count_indels.py\n",
    "```\n",
    "\n",
    "\n",
    "after that to run the script do one of the following:\n",
    "- click <span style=\"background-color:lightgrey\">Run</span> button on the panel above\n",
    "- or press <span style=\"background-color:lightgrey\">Shift + Enter</span> or <span style=\"background-color:lightgrey\">Ctrl + Enter</span>\n",
    "\n",
    "\n",
    "when the script finishes its work, the results will be written into the folder <span style=\"background-color:lightgrey\">output_indels</span>  in the current directory\n",
    "\n",
    "\n",
    "3. To create plots using the excel spreadsheets made by the previous command, click on the next cell with the code:\n",
    "\n",
    "```python\n",
    "%run ./crispr_cas9_scripts/crispr_create_plots.py\n",
    "```\n",
    "and again to run the script do one of the following:\n",
    "- click <span style=\"background-color:lightgrey\">Run</span> button on the panel above\n",
    "- or press <span style=\"background-color:lightgrey\">Shift + Enter</span> or <span style=\"background-color:lightgrey\">Ctrl + Enter</span>\n",
    "\n",
    "when this script finishes its work, the results will be written into the folder <span style=\"background-color:lightgrey\">output_plots</span>  in the current directory\n",
    "\n",
    "\n",
    "\n",
    "\n",
    "\n",
    "NOTES: \n",
    "- if you want to stop running script, click <span style=\"background-color:lightgrey\">stop</span> button on the panel above (which is black square).\n",
    "\n",
    "\n"
   ]
  },
  {
   "cell_type": "code",
   "execution_count": 13,
   "metadata": {
    "deletable": false,
    "scrolled": false
   },
   "outputs": [
    {
     "name": "stdout",
     "output_type": "stream",
     "text": [
      "\n",
      "    ---------------\n",
      "    job started at 2019-01-23 18:35:25 ...\n",
      "    ---------------\n",
      "    \n"
     ]
    },
    {
     "data": {
      "application/vnd.jupyter.widget-view+json": {
       "model_id": "960342e2b2bc4c63a66a15e63b1df67c",
       "version_major": 2,
       "version_minor": 0
      },
      "text/plain": [
       "IntProgress(value=0, bar_style='success', max=3)"
      ]
     },
     "metadata": {},
     "output_type": "display_data"
    },
    {
     "name": "stdout",
     "output_type": "stream",
     "text": [
      "\n",
      "    \n",
      "    file processed: 3\n",
      "    time taken: 0.0 hours 0.0 minutes 5 seconds\n",
      "    \n",
      "    the results are in the folder 'output_indels'\n",
      "    \n",
      "    ---------------\n",
      "    ... job finished at 2019-01-23 18:35:31\n",
      "    ---------------\n",
      "    \n",
      "    \n"
     ]
    }
   ],
   "source": [
    "%run ./crispr_cas9/crispr_count_indels.py"
   ]
  },
  {
   "cell_type": "code",
   "execution_count": 11,
   "metadata": {
    "scrolled": false
   },
   "outputs": [
    {
     "name": "stdout",
     "output_type": "stream",
     "text": [
      "\n",
      "    ---------------\n",
      "    job started at 2019-01-23 18:34:07 ...\n",
      "    ---------------\n",
      "    \n"
     ]
    },
    {
     "data": {
      "application/vnd.jupyter.widget-view+json": {
       "model_id": "8d3b755a77b94bf6afd2a528b2dda6ae",
       "version_major": 2,
       "version_minor": 0
      },
      "text/plain": [
       "IntProgress(value=0, bar_style='success', max=3)"
      ]
     },
     "metadata": {},
     "output_type": "display_data"
    },
    {
     "name": "stdout",
     "output_type": "stream",
     "text": [
      "\n",
      "    \n",
      "    file processed: 3\n",
      "    time taken: 0.0 hours 0.0 minutes 4 seconds\n",
      "    \n",
      "    the results are in the folder 'output_plots'\n",
      "    \n",
      "    ---------------\n",
      "    ... job finished at 2019-01-23 18:34:12\n",
      "    ---------------\n",
      "    \n",
      "    \n"
     ]
    }
   ],
   "source": [
    "%run ./crispr_cas9/crispr_create_plots.py"
   ]
  },
  {
   "cell_type": "code",
   "execution_count": null,
   "metadata": {},
   "outputs": [],
   "source": []
  }
 ],
 "metadata": {
  "celltoolbar": "Edit Metadata",
  "kernelspec": {
   "display_name": "Python 3",
   "language": "python",
   "name": "python3"
  },
  "language_info": {
   "codemirror_mode": {
    "name": "ipython",
    "version": 3
   },
   "file_extension": ".py",
   "mimetype": "text/x-python",
   "name": "python",
   "nbconvert_exporter": "python",
   "pygments_lexer": "ipython3",
   "version": "3.6.5"
  }
 },
 "nbformat": 4,
 "nbformat_minor": 2
}
