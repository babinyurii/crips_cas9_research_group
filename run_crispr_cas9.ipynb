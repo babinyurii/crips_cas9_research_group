{
 "cells": [
  {
   "cell_type": "markdown",
   "metadata": {
    "deletable": false,
    "editable": false,
    "scrolled": false
   },
   "source": [
    "## Instruction for guys from HBV cripr/cas9 research group:\n",
    "\n",
    "1. create a folder named <span style=\"background-color:lightgrey\">input_data</span> in the current directory and paste your files in 'fasta' format into it\n",
    "\n",
    "2. To count indels, click on the cell below which contains the following code:\n",
    "\n",
    "```python\n",
    "%run ./crispr_cas9_scripts/crispr_count_indels.py\n",
    "```\n",
    "\n",
    "\n",
    "after that to run the script do one of the following:\n",
    "- click <span style=\"background-color:lightgrey\">Run</span> button on the panel above\n",
    "- or press <span style=\"background-color:lightgrey\">Shift + Enter</span> or <span style=\"background-color:lightgrey\">Ctrl + Enter</span>\n",
    "\n",
    "\n",
    "when the script finishes its work, the results will be written into the folder <span style=\"background-color:lightgrey\">output_indels</span>  in the current directory\n",
    "\n",
    "\n",
    "3. To create plots using the excel spreadsheets made by the previous command, click on the next cell with the code:\n",
    "\n",
    "```python\n",
    "%run ./crispr_cas9_scripts/crispr_create_plots.py\n",
    "```\n",
    "and again to run the script do one of the following:\n",
    "- click <span style=\"background-color:lightgrey\">Run</span> button on the panel above\n",
    "- or press <span style=\"background-color:lightgrey\">Shift + Enter</span> or <span style=\"background-color:lightgrey\">Ctrl + Enter</span>\n",
    "\n",
    "when this script finishes its work, the results will be written into the folder <span style=\"background-color:lightgrey\">output_plots</span>  in the current directory\n",
    "\n",
    "\n",
    "\n",
    "\n",
    "\n",
    "NOTES: \n",
    "- if you want to stop running script, click <span style=\"background-color:lightgrey\">stop</span> button on the panel above (which is black square).\n",
    "\n",
    "\n"
   ]
  },
  {
   "cell_type": "code",
   "execution_count": null,
   "metadata": {},
   "outputs": [],
   "source": []
  },
  {
   "cell_type": "code",
   "execution_count": 1,
   "metadata": {
    "deletable": false,
    "scrolled": false
   },
   "outputs": [
    {
     "name": "stdout",
     "output_type": "stream",
     "text": [
      "\n",
      "    ---------------\n",
      "    job started at 2019-05-30 13:13:38 ...\n",
      "    ---------------\n",
      "    \n"
     ]
    },
    {
     "data": {
      "application/vnd.jupyter.widget-view+json": {
       "model_id": "d5e1b3bb329941028270f2cbce0edc97",
       "version_major": 2,
       "version_minor": 0
      },
      "text/plain": [
       "IntProgress(value=0, bar_style='success', max=16)"
      ]
     },
     "metadata": {},
     "output_type": "display_data"
    },
    {
     "name": "stdout",
     "output_type": "stream",
     "text": [
      "\n",
      "    \n",
      "    file processed: 16\n",
      "    time taken: 0.0 hours 0.0 minutes 1 seconds\n",
      "    \n",
      "    the results are in the folder 'output_indels'\n",
      "    \n",
      "    ---------------\n",
      "    ... job finished at 2019-05-30 13:13:40\n",
      "    ---------------\n",
      "    \n",
      "    \n"
     ]
    }
   ],
   "source": [
    "%run ./crispr_cas9/crispr_count_indels.py"
   ]
  },
  {
   "cell_type": "code",
   "execution_count": 2,
   "metadata": {
    "scrolled": false
   },
   "outputs": [
    {
     "name": "stdout",
     "output_type": "stream",
     "text": [
      "\n",
      "    ---------------\n",
      "    job started at 2019-05-30 13:13:42 ...\n",
      "    ---------------\n",
      "    \n"
     ]
    },
    {
     "data": {
      "application/vnd.jupyter.widget-view+json": {
       "model_id": "535515cffcf04b6190219b0a45950bed",
       "version_major": 2,
       "version_minor": 0
      },
      "text/plain": [
       "IntProgress(value=0, bar_style='success', max=16)"
      ]
     },
     "metadata": {},
     "output_type": "display_data"
    },
    {
     "name": "stdout",
     "output_type": "stream",
     "text": [
      "\n",
      "                          warning: perhaps the excel tab \"deletions\" has no data.\n",
      "                          the deletions for file 10_ins_ladder_forward.xlsx won't be written.\n",
      "                          error: max() arg is an empty sequence.\n",
      "                          \n",
      "\n",
      "                          warning: perhaps the excel tab \"deletions\" has no data.\n",
      "                          the deletions for file 11_ins_ladder.xlsx won't be written.\n",
      "                          error: max() arg is an empty sequence.\n",
      "                          \n",
      "\n",
      "                          warning: perhaps the excel tab \"insertions\" has no data.\n",
      "                          the insertions for file 13_df_dels.xlsx won't be written.\n",
      "                          error: max() arg is an empty sequence.\n",
      "                          \n",
      "\n",
      "                          warning: perhaps the excel tab \"insertions\" has no data.\n",
      "                          the insertions for file 15_dels_ladder_for_matrix.xlsx won't be written.\n",
      "                          error: max() arg is an empty sequence.\n",
      "                          \n",
      "\n",
      "                          warning: perhaps the excel tab \"deletions\" has no data.\n",
      "                          the deletions for file 16_ins_ladder_for_matrix.xlsx won't be written.\n",
      "                          error: max() arg is an empty sequence.\n",
      "                          \n",
      "\n",
      "                          warning: perhaps the excel tab \"insertions\" has no data.\n",
      "                          the insertions for file 1_dels_single_del_from_head.xlsx won't be written.\n",
      "                          error: max() arg is an empty sequence.\n",
      "                          \n",
      "\n",
      "                          warning: perhaps the excel tab \"insertions\" has no data.\n",
      "                          the insertions for file 2_dels_single_del_from_tail.xlsx won't be written.\n",
      "                          error: max() arg is an empty sequence.\n",
      "                          \n",
      "\n",
      "                          warning: perhaps the excel tab \"insertions\" has no data.\n",
      "                          the insertions for file 3_dels_single_del_hang_at_head.xlsx won't be written.\n",
      "                          error: max() arg is an empty sequence.\n",
      "                          \n",
      "\n",
      "                          warning: perhaps the excel tab \"insertions\" has no data.\n",
      "                          the insertions for file 4_dels_single_del_hang_at_tail.xlsx won't be written.\n",
      "                          error: max() arg is an empty sequence.\n",
      "                          \n",
      "\n",
      "                          warning: perhaps the excel tab \"insertions\" has no data.\n",
      "                          the insertions for file 5_dels_hanging_from_head_var_len.xlsx won't be written.\n",
      "                          error: max() arg is an empty sequence.\n",
      "                          \n",
      "\n",
      "                          warning: perhaps the excel tab \"insertions\" has no data.\n",
      "                          the insertions for file 6_dels_hanging_from_tail_var_len.xlsx won't be written.\n",
      "                          error: max() arg is an empty sequence.\n",
      "                          \n",
      "\n",
      "                          warning: perhaps the excel tab \"insertions\" has no data.\n",
      "                          the insertions for file 7_dels_ladder.xlsx won't be written.\n",
      "                          error: max() arg is an empty sequence.\n",
      "                          \n",
      "\n",
      "                          warning: perhaps the excel tab \"deletions\" has no data.\n",
      "                          the deletions for file 8_ins_single_ins_from_head.xlsx won't be written.\n",
      "                          error: max() arg is an empty sequence.\n",
      "                          \n",
      "\n",
      "                          warning: perhaps the excel tab \"deletions\" has no data.\n",
      "                          the deletions for file 9_ins_single_ins_from_tail.xlsx won't be written.\n",
      "                          error: max() arg is an empty sequence.\n",
      "                          \n",
      "\n",
      "    \n",
      "    file processed: 16\n",
      "    time taken: 0.0 hours 0.0 minutes 8 seconds\n",
      "    \n",
      "    the results are in the folder 'output_plots'\n",
      "    \n",
      "    ---------------\n",
      "    ... job finished at 2019-05-30 13:13:51\n",
      "    ---------------\n",
      "    \n",
      "    \n"
     ]
    }
   ],
   "source": [
    "%run ./crispr_cas9/crispr_create_plots.py"
   ]
  },
  {
   "cell_type": "code",
   "execution_count": null,
   "metadata": {},
   "outputs": [],
   "source": []
  }
 ],
 "metadata": {
  "celltoolbar": "Edit Metadata",
  "kernelspec": {
   "display_name": "Python 3",
   "language": "python",
   "name": "python3"
  },
  "language_info": {
   "codemirror_mode": {
    "name": "ipython",
    "version": 3
   },
   "file_extension": ".py",
   "mimetype": "text/x-python",
   "name": "python",
   "nbconvert_exporter": "python",
   "pygments_lexer": "ipython3",
   "version": "3.6.5"
  }
 },
 "nbformat": 4,
 "nbformat_minor": 2
}
